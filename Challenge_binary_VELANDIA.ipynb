{
  "nbformat": 4,
  "nbformat_minor": 0,
  "metadata": {
    "accelerator": "GPU",
    "colab": {
      "name": "Challenge_binary_VELANDIA.ipynb",
      "provenance": [],
      "collapsed_sections": []
    },
    "kernelspec": {
      "display_name": "Python 3",
      "name": "python3"
    },
    "language_info": {
      "name": "python"
    }
  },
  "cells": [
    {
      "cell_type": "markdown",
      "metadata": {
        "id": "G6pQLPnvyR6o"
      },
      "source": [
        "<h1><center><b>Binary classification - IMA 205</b></center></h1>\n",
        "<h3><center>Brayam Velandia</center></h3>"
      ]
    },
    {
      "cell_type": "markdown",
      "metadata": {
        "id": "A133817zyni2"
      },
      "source": [
        "_____\n",
        "In this report, we are gonna explain the process of Binary Classification for images obtained with the Papanicolaou test. This is a method of cervical screening used to detect potentially precancerous and cancerous processes. In this part we are gonna evaluate the binary problem, with the idea of detect the normal and abnormal cells. Nowadays, some laboratories implement manual screening, that allows big mistakes in the classification. This is why the implementation of Machine Learning algorithms for automated classification οf cell images is very important. \n",
        "\n",
        "First, we are gonna explain the Deep Learning methods implemented. Second, we are gonna descrive the feature extraction implemented in the dataset provided, the algorithms used for the binary classification and the pre- and post-processing methods. Finally, we are will compare the results obtained in order to select the best classification method.\n",
        "______\n",
        "\n",
        "\n"
      ]
    },
    {
      "cell_type": "markdown",
      "metadata": {
        "id": "Hzkfaniu5Xnl"
      },
      "source": [
        "# **Data Processing**"
      ]
    },
    {
      "cell_type": "markdown",
      "metadata": {
        "id": "oxCQlS068L71"
      },
      "source": [
        "###**Importing the data**"
      ]
    },
    {
      "cell_type": "markdown",
      "metadata": {
        "id": "sNW1p2jY5tvj"
      },
      "source": [
        "Let us start by importing the databases of the cervical screening. The data classification will be obtained with the .csv file that allows us to know if the image correspond to a Normal or Abnormal cell."
      ]
    },
    {
      "cell_type": "code",
      "metadata": {
        "id": "R2hSDfAA8bkR"
      },
      "source": [
        "from functions import graphhistory, predictImage, area_nuc, area_cyt, perim_nuc, perim_cyt, col_nuc, col_cyt, den_nuc, den_cyt, multipleimage, encode\n",
        "import tensorflow as tf\n",
        "import numpy as np\n",
        "from tensorflow import keras\n",
        "import os\n",
        "import cv2\n",
        "from tensorflow.keras.preprocessing.image import ImageDataGenerator\n",
        "from tensorflow.keras.preprocessing import image\n",
        "import matplotlib.pyplot as plt\n",
        "from sklearn.model_selection import train_test_split\n",
        "from google_drive_downloader import GoogleDriveDownloader as gdd\n",
        "from skimage.io import imread\n",
        "import pandas as pd\n",
        "from pylab import rcParams\n",
        "rcParams['figure.figsize'] = (6, 6)      # setting default size of plots\n",
        "import seaborn as sns\n",
        "import matplotlib.pyplot as plt \n",
        "from sklearn.model_selection import train_test_split, GridSearchCV\n",
        "from sklearn.preprocessing import LabelEncoder\n",
        "#from sklearn.cross_validation import StratifiedShuffleSplit   # this was the old version\n",
        "from sklearn.model_selection import StratifiedShuffleSplit\n",
        "from sklearn.pipeline import Pipeline\n",
        "from sklearn.preprocessing import StandardScaler\n",
        "from sklearn.metrics import accuracy_score, log_loss\n",
        "from sklearn.neighbors import KNeighborsClassifier\n",
        "from sklearn.svm import SVC, LinearSVC, NuSVC\n",
        "from sklearn.tree import DecisionTreeClassifier\n",
        "from sklearn.ensemble import RandomForestClassifier #AdaBoostClassifier, GradientBoostingClassifier\n",
        "from sklearn.naive_bayes import GaussianNB\n",
        "from sklearn.discriminant_analysis import LinearDiscriminantAnalysis\n",
        "from sklearn.discriminant_analysis import QuadraticDiscriminantAnalysis\n",
        "from sklearn.linear_model import LogisticRegression\n",
        "from keras.layers import Input,Convolution2D, Dense, Activation, Flatten, merge, Conv2D\n",
        "from keras.layers import MaxPooling2D, Dropout, LocallyConnected2D, MaxPool2D, MaxPool1D\n",
        "from keras.models import Model, load_model,  Sequential\n",
        "from keras.optimizers import SGD\n",
        "from sklearn.preprocessing import LabelEncoder\n",
        "from sklearn.preprocessing import StandardScaler\n",
        "from keras.utils.np_utils import to_categorical\n",
        "from keras.preprocessing.image import img_to_array, load_img\n",
        "from sklearn.model_selection import StratifiedShuffleSplit"
      ],
      "execution_count": 1,
      "outputs": []
    },
    {
      "cell_type": "code",
      "metadata": {
        "colab": {
          "base_uri": "https://localhost:8080/"
        },
        "id": "2yhMG2377jWx",
        "outputId": "b794ae5a-55e2-4c3a-af58-b5bbded2ea30"
      },
      "source": [
        "gdd.download_file_from_google_drive(file_id='1-iFMVq5Mo63YaG3PTiXRswwwerKxQSQw',\n",
        "dest_path='./data/metadataTrain.csv')\n",
        "\n",
        "gdd.download_file_from_google_drive(file_id='1oea2SOfhxj_VXoGWrDafijzwbvmN3MnP',\n",
        "dest_path='./data/SampleSubmission.csv')\n",
        "\n",
        "gdd.download_file_from_google_drive(file_id='1fE2Q8OxhVB9-Y1GPdrNit1nj8DaUgQMX',\n",
        "                                    dest_path='./data/Test.zip',\n",
        "                                    unzip=True)\n",
        "\n",
        "gdd.download_file_from_google_drive(file_id='1aJLdWrD5WjtTAuHdfc6hzEj5G2gCVT7r',\n",
        "                                    dest_path='./data/Train.zip',\n",
        "                                    unzip=True)"
      ],
      "execution_count": 2,
      "outputs": [
        {
          "output_type": "stream",
          "text": [
            "Downloading 1-iFMVq5Mo63YaG3PTiXRswwwerKxQSQw into ./data/metadataTrain.csv... Done.\n",
            "Downloading 1oea2SOfhxj_VXoGWrDafijzwbvmN3MnP into ./data/SampleSubmission.csv... Done.\n",
            "Downloading 1fE2Q8OxhVB9-Y1GPdrNit1nj8DaUgQMX into ./data/Test.zip... Done.\n",
            "Unzipping...Done.\n",
            "Downloading 1aJLdWrD5WjtTAuHdfc6hzEj5G2gCVT7r into ./data/Train.zip... Done.\n",
            "Unzipping...Done.\n"
          ],
          "name": "stdout"
        }
      ]
    },
    {
      "cell_type": "markdown",
      "metadata": {
        "id": "W6g9w9579KXx"
      },
      "source": [
        "Now, let us create the dataframes thet allow us to classify the images in the Train folder."
      ]
    },
    {
      "cell_type": "code",
      "metadata": {
        "id": "XA6Ed6q16QxP"
      },
      "source": [
        "train = []\n",
        "ID = []\n",
        "for filenames in os.listdir('/content/data/Train'):\n",
        "    if '_' not in filenames:\n",
        "        train.append(imread(os.path.join('/content/data/Train',filenames)))\n",
        "        ID.append(int(filenames.split('.')[0]))\n",
        "    \n",
        "labels = pd.read_csv('/content/data/metadataTrain.csv')\n"
      ],
      "execution_count": 3,
      "outputs": []
    },
    {
      "cell_type": "markdown",
      "metadata": {
        "id": "khzjsNtF9e5t"
      },
      "source": [
        "In this part, we will work with the two dataframes Abnormal (A boolean feature) and ID. For this, we create two numpy arrays with this information."
      ]
    },
    {
      "cell_type": "code",
      "metadata": {
        "id": "uUKGeq1n6P68"
      },
      "source": [
        "#Dataframes\n",
        "normal=labels[\"ABNORMAL\"]\n",
        "id=labels[\"ID\"]\n",
        "classes=labels[\"GROUP\"]\n",
        "#Numpy arrays\n",
        "normal=normal.to_numpy()\n",
        "id=id.to_numpy()\n",
        "classes=classes.to_numpy()"
      ],
      "execution_count": 4,
      "outputs": []
    },
    {
      "cell_type": "markdown",
      "metadata": {
        "id": "Ntz8q8sl-6KM"
      },
      "source": [
        "#**Deep Learning Implementation**"
      ]
    },
    {
      "cell_type": "markdown",
      "metadata": {
        "id": "UE6q-Ye9BLTj"
      },
      "source": [
        "###**Data pre-processing**"
      ]
    },
    {
      "cell_type": "markdown",
      "metadata": {
        "id": "Kmp3206g_I1-"
      },
      "source": [
        "Through the effective use of Neural Networks (Deep Learning Models), binary classification problems can be solved to a fairly high degree. Since the Newral Network methods allow us to classify the images without the feature extraction. We are going to start by implementing this method. We start by creating two folders \"NORMAL\" and \"ABNORMAL\". In this way, we will preparate our data in a desirable way for the Neural Network implementation."
      ]
    },
    {
      "cell_type": "code",
      "metadata": {
        "id": "oveKk_S6-N8f"
      },
      "source": [
        "!mkdir TrainData\n",
        "!mkdir /content/TrainData/ABNORMAL\n",
        "!mkdir /content/TrainData/NORMAL\n",
        "\n",
        "import shutil\n",
        "for i in range(len(normal)):\n",
        "  if normal[i]==0:\n",
        "    im_id=str(id[i])\n",
        "    shutil.move(\"/content/data/Train/\"+im_id+\".bmp\", \"/content/TrainData/NORMAL\")\n",
        "\n",
        "  if normal[i]==1:\n",
        "    im_id=str(id[i])\n",
        "    shutil.move(\"/content/data/Train/\"+im_id+\".bmp\", \"/content/TrainData/ABNORMAL\")"
      ],
      "execution_count": 5,
      "outputs": []
    },
    {
      "cell_type": "markdown",
      "metadata": {
        "id": "2yx3EhZXBVfS"
      },
      "source": [
        "Now we are going to generate the data to use in the model. For this, we are going to separate our dataset into train and validation dataset. For this porpuse we are going to use Image Data Generator from Keras.\n",
        "\n",
        "Keras provides the ImageDataGenerator class that defines the configuration for image data preparation and augmentation. The generator will progressively load the images in the dataset, allowing us to work with both small and very large datasets containing thousands or millions of images that may not fit into system memory."
      ]
    },
    {
      "cell_type": "code",
      "metadata": {
        "id": "s76OUZTJBnFw",
        "colab": {
          "base_uri": "https://localhost:8080/"
        },
        "outputId": "edbaad06-ec34-4bd7-a0b0-91127c614b99"
      },
      "source": [
        "image_generator = ImageDataGenerator(rescale=1/255, validation_split=0.2)                                          \n",
        "\n",
        "\n",
        "train_dataset = image_generator.flow_from_directory(\"/content/TrainData\",batch_size=32,\n",
        "                                                 target_size=(150, 150), \n",
        "                                                 subset='training',\n",
        "                                                 class_mode='binary')\n",
        "\n",
        "validation_dataset = image_generator.flow_from_directory(\"/content/TrainData\",batch_size=32,\n",
        "                                                 target_size=(150, 150),\n",
        "                                                 subset='validation',\n",
        "                                                 class_mode='binary')"
      ],
      "execution_count": 6,
      "outputs": [
        {
          "output_type": "stream",
          "text": [
            "Found 2338 images belonging to 2 classes.\n",
            "Found 583 images belonging to 2 classes.\n"
          ],
          "name": "stdout"
        }
      ]
    },
    {
      "cell_type": "markdown",
      "metadata": {
        "id": "78EsI5XQCUqV"
      },
      "source": [
        "Now, we see that we have succesfully divided our data in the train dataset with 2338 images and the validation dataset with 583 images. The corresponding class indices assigned to each class are the following."
      ]
    },
    {
      "cell_type": "code",
      "metadata": {
        "id": "tnX1FLM6Cpjm",
        "colab": {
          "base_uri": "https://localhost:8080/"
        },
        "outputId": "aa273ccf-ba04-4a1f-b660-c5857d75870a"
      },
      "source": [
        "validation_dataset.class_indices"
      ],
      "execution_count": 7,
      "outputs": [
        {
          "output_type": "execute_result",
          "data": {
            "text/plain": [
              "{'ABNORMAL': 0, 'NORMAL': 1}"
            ]
          },
          "metadata": {
            "tags": []
          },
          "execution_count": 7
        }
      ]
    },
    {
      "cell_type": "markdown",
      "metadata": {
        "id": "cCkDbDwjKcHn"
      },
      "source": [
        "_____________\n",
        "###**ANN Implementation**"
      ]
    },
    {
      "cell_type": "markdown",
      "metadata": {
        "id": "H1TTHSKbMAjD"
      },
      "source": [
        "Here we continue with the definition of the model. We implement a Sequential Network with the folowing characteristics.\n",
        "\n",
        "\n",
        "\n",
        "*   Convolutional layer and maxpool layer 1 with Relu activation (32)\n",
        "*   Convolutional layer and maxpool layer 2 with Relu activation (64)\n",
        "*   Convolutional layer and maxpool layer 3 with Relu activation (128)\n",
        "*   Convolutional layer and maxpool layer 3 with Relu activation (128)\n",
        "*   Flattens layer - the resulting image array to 1D array\n",
        "*   Hidden layer with 512 neurons and Rectified Linear Unit activation function \n",
        "*   Output layer with single neuron, the activation function is a Sigmoid in order to obtain 0 or 1 for a binary classification problem\n",
        "\n",
        "\n"
      ]
    },
    {
      "cell_type": "code",
      "metadata": {
        "id": "VTTWlm6YL7aW"
      },
      "source": [
        "model = keras.Sequential()\n",
        "\n",
        "# Convolutional layer and maxpool layer 1\n",
        "model.add(keras.layers.Conv2D(32,(3,3),activation='relu',input_shape=(150,150,3)))\n",
        "model.add(keras.layers.MaxPool2D(2,2))\n",
        "\n",
        "# Convolutional layer and maxpool layer 2\n",
        "model.add(keras.layers.Conv2D(64,(3,3),activation='relu'))\n",
        "model.add(keras.layers.MaxPool2D(2,2))\n",
        "\n",
        "# Convolutional layer and maxpool layer 3\n",
        "model.add(keras.layers.Conv2D(128,(3,3),activation='relu'))\n",
        "model.add(keras.layers.MaxPool2D(2,2))\n",
        "\n",
        "# Convolutional layer and maxpool layer 4\n",
        "model.add(keras.layers.Conv2D(128,(3,3),activation='relu'))\n",
        "model.add(keras.layers.MaxPool2D(2,2))\n",
        "\n",
        "# This layer flattens the resulting image array to 1D array\n",
        "model.add(keras.layers.Flatten())\n",
        "\n",
        "# Hidden layer with 512 neurons and Rectified Linear Unit activation function \n",
        "model.add(keras.layers.Dense(512,activation='relu'))\n",
        "\n",
        "# Output layer with single neuron which gives 0 \n",
        "#Here we use sigmoid activation function which makes our model output to lie between 0 and 1\n",
        "model.add(keras.layers.Dense(1,activation='sigmoid'))"
      ],
      "execution_count": 8,
      "outputs": []
    },
    {
      "cell_type": "markdown",
      "metadata": {
        "id": "ll-HZkxFR6jM"
      },
      "source": [
        "After we define the network, we compile the model, for this we need to define the following:\n",
        "\n",
        "\n",
        "\n",
        "1.   **Optimizer:** We choose Adam, since is one of the most recommended for his Adaptative Gradient Algorithm and the Root mean square propagation. This characteristics maintain a per-parameter learning rate that improves performance on problens with sparce gradients.\n",
        "2.   **Loss:**  Since this is a Binary classification problem. The best option is to implement binary crossentropy.\n",
        "3.   **Metrics:** For this time, we just calculate the accuracy. It is the ratio of number of correct predictions to the total number of input samples.\n"
      ]
    },
    {
      "cell_type": "code",
      "metadata": {
        "id": "iMb2pj6UQJnm"
      },
      "source": [
        "model.compile(optimizer='adam',loss='binary_crossentropy',metrics=['accuracy'])"
      ],
      "execution_count": 9,
      "outputs": []
    },
    {
      "cell_type": "code",
      "metadata": {
        "id": "5DFURYijQKvT"
      },
      "source": [
        "history=model.fit_generator(train_dataset,\n",
        "         steps_per_epoch = 73,\n",
        "         epochs = 20,\n",
        "         validation_data = validation_dataset\n",
        "         )"
      ],
      "execution_count": null,
      "outputs": []
    },
    {
      "cell_type": "code",
      "metadata": {
        "colab": {
          "base_uri": "https://localhost:8080/",
          "height": 499
        },
        "id": "mbPeoZvZEdFl",
        "outputId": "b47765c8-ef82-476e-ce20-5422c671aea3"
      },
      "source": [
        "graphhistory(history)"
      ],
      "execution_count": 14,
      "outputs": [
        {
          "output_type": "display_data",
          "data": {
            "image/png": "[encoded data removed]",
            "text/plain": [
              "<Figure size 576x576 with 2 Axes>"
            ]
          },
          "metadata": {
            "tags": [],
            "needs_background": "light"
          }
        }
      ]
    },
    {
      "cell_type": "markdown",
      "metadata": {
        "id": "alSt3pvBQAhs"
      },
      "source": [
        "Here we obtain an accuracy of **89.37** on the validation dataset and Loss **0.2651**. This is a good result if we compare with the model performance in the classic methods in the last part. However, we will use some other techniques that can improve this result as Convolutional Neural Networks or Data Augmentation."
      ]
    },
    {
      "cell_type": "markdown",
      "metadata": {
        "id": "qEpkJ4AGHjuv"
      },
      "source": [
        "______\n",
        "### **CNN Implementation**"
      ]
    },
    {
      "cell_type": "markdown",
      "metadata": {
        "id": "0ZAcqbzqNNi4"
      },
      "source": [
        "In order to improve our results, we are going to test the transfer learning techniques. This is a neural network model, first trained on a problem similar to the problem that is being solved. Transfer learning has the advantage of decreasing the training time for a learning model and can result in lower generalization error. "
      ]
    },
    {
      "cell_type": "code",
      "metadata": {
        "id": "nItqZEbHKWW5"
      },
      "source": [
        "RANDOM_SEED = 1 # Here we define some parameters of the image\n",
        "IMG_SIZE = (150, 150) # size of vgg16 input\n",
        "IMG_PATH = \"/content/TrainData\""
      ],
      "execution_count": 8,
      "outputs": []
    },
    {
      "cell_type": "markdown",
      "metadata": {
        "id": "NMkESukBN4Va"
      },
      "source": [
        "For this porpuse, we will implement VGGNet. This is a Deep Convolutional Neural Network that was proposed by Karen Simonyan and Andrew Zisserman of the University of Oxford. As this convolutional neural network has 16 layers in its architecture, it was named VGG-16. This model was proposed to reduce the number of parameters in a convolutional neural network with improved training time."
      ]
    },
    {
      "cell_type": "markdown",
      "metadata": {
        "id": "E1bfETjKOR8q"
      },
      "source": [
        "The idea is to add the model to our model, and ignore the Top Layer. In order to use our own output layer. In this case a layer with 2 classes or 9 in the multicalssification."
      ]
    },
    {
      "cell_type": "code",
      "metadata": {
        "id": "LWtd4L_XKX88"
      },
      "source": [
        "vgg16_weight_path = '../input/vgg16/vgg16_weights_tf_dim_ordering_tf_kernels_notop.h5'\n",
        "\n",
        "base_model = tf.keras.applications.VGG16(\n",
        "    weights=\"imagenet\",\n",
        "    include_top=False,\n",
        "    input_shape=IMG_SIZE + (3,)\n",
        ")\n",
        "\n",
        "\n",
        "model = tf.keras.models.Sequential()\n",
        "model.add(base_model)\n",
        "model.add(tf.keras.layers.Flatten())\n",
        "model.add(tf.keras.layers.Dropout(0.5))\n",
        "model.add(tf.keras.layers.Dense(1, activation='sigmoid'))\n",
        "\n",
        "model.layers[0].trainable = False\n",
        "\n",
        "\n",
        "model.compile(\n",
        "    loss='binary_crossentropy',\n",
        "    optimizer=tf.keras.optimizers.Adam(),\n",
        "    metrics=['accuracy']\n",
        ")\n",
        "\n",
        "model.summary()"
      ],
      "execution_count": null,
      "outputs": []
    },
    {
      "cell_type": "code",
      "metadata": {
        "id": "8zlNf6SLKbtn"
      },
      "source": [
        "EPOCHS = 20\n",
        "history=model.fit_generator(train_dataset,\n",
        "         steps_per_epoch = 73,\n",
        "         epochs = 20,\n",
        "         validation_data = validation_dataset\n",
        "         )\n",
        "\n",
        "print(\"Training Done\")\n",
        "model.save(\"model.h5\")"
      ],
      "execution_count": null,
      "outputs": []
    },
    {
      "cell_type": "code",
      "metadata": {
        "colab": {
          "base_uri": "https://localhost:8080/",
          "height": 499
        },
        "id": "DfO72GrJLlwh",
        "outputId": "9d29aa25-d538-46ad-f018-d2111a65ff10"
      },
      "source": [
        "graphhistory(history)"
      ],
      "execution_count": 13,
      "outputs": [
        {
          "output_type": "display_data",
          "data": {
            "image/png": "[encoded data removed]",
            "text/plain": [
              "<Figure size 576x576 with 2 Axes>"
            ]
          },
          "metadata": {
            "tags": [],
            "needs_background": "light"
          }
        }
      ]
    },
    {
      "cell_type": "markdown",
      "metadata": {
        "id": "WTodwJUcPfCl"
      },
      "source": [
        "As we can see by classifying the cervical screening in 2 classes, the model has given a **minimum accuracy of 86%** and a **maximum accuracy of 91%**. We can further tune the training parameters and re-train our model to see any possible upscaling in the classification. But what we have got in this experiment is the standard one. We will discuss this results in the conlusions."
      ]
    },
    {
      "cell_type": "markdown",
      "metadata": {
        "id": "wTzFI-i5E5cM"
      },
      "source": [
        "_____\n",
        "### **Test the model**\n",
        "\n",
        "Now we are gonna test the model with the dataset destinated for the challenge, for this we are gonna use the function predictImage that implement the model with the input image."
      ]
    },
    {
      "cell_type": "markdown",
      "metadata": {
        "id": "-4pNF7QuFe-j"
      },
      "source": [
        "The Test folder contains the original cervical screening and the segmentation. However, we just need the original image to classify it as Abnormal or Normal. For this, we ignore all the files with the character \"_\" in the path."
      ]
    },
    {
      "cell_type": "code",
      "metadata": {
        "id": "QyR6km9QFcFk"
      },
      "source": [
        "from os import listdir\n",
        "from os.path import isfile, join\n",
        "onlyfiles = [f for f in listdir(\"/content/data/Test\") if isfile(join(\"/content/data/Test\", f))]\n",
        "onlyfiles\n",
        "files=[]\n",
        "\n",
        "for file in onlyfiles:\n",
        "  if '_' not in file:\n",
        "    files.append(file)"
      ],
      "execution_count": 21,
      "outputs": []
    },
    {
      "cell_type": "markdown",
      "metadata": {
        "id": "i55TYdFOGXH7"
      },
      "source": [
        "Now, we create two arrays: Id_test tht will save the Id of each image and predict_test with the respective prediction. We do this, in order to be sure that the result will correspond to the Sample Submission order."
      ]
    },
    {
      "cell_type": "code",
      "metadata": {
        "id": "kElYm_M_GWek"
      },
      "source": [
        "import csv\n",
        "Id_test = []\n",
        "predict_test=[]\n",
        "\n",
        "with open('/content/data/SampleSubmission.csv', 'r') as csvfile:\n",
        "  filereader = csv.reader(csvfile, delimiter=',')\n",
        "  for row in filereader:\n",
        "    Id_test.append(row[0])\n",
        "    predict_test.append(row[1])\n",
        "\n",
        "Id_paths=[]\n",
        "for id in Id_test:\n",
        "  new_id=id+\".bmp\"\n",
        "  Id_paths.append(new_id)"
      ],
      "execution_count": null,
      "outputs": []
    },
    {
      "cell_type": "markdown",
      "metadata": {
        "id": "zvcIpYuyHCDu"
      },
      "source": [
        "Finally, we compute the prediction for each image and we write this information in our .csv file."
      ]
    },
    {
      "cell_type": "code",
      "metadata": {
        "id": "vbrZR4MlG_9_"
      },
      "source": [
        "prediction=[]\n",
        "for image_cell in Id_paths:\n",
        "  if image_cell != \"ID.bmp\":\n",
        "      path=str(\"/content/data/Test/\"+image_cell)\n",
        "      value=predictImage(path)\n",
        "      prediction.append(int(value > .5))\n",
        "  print(image_cell,value)\n",
        "\n",
        "  for value in prediction: # Convert values diferent to 0 or 1\n",
        "  if value<0.5:\n",
        "    value=\"0\"\n",
        "  else:\n",
        "    value=\"1\"\n"
      ],
      "execution_count": null,
      "outputs": []
    },
    {
      "cell_type": "code",
      "metadata": {
        "id": "REs5i234F0JK"
      },
      "source": [
        "with open('/content/data/SampleSubmission.csv', 'w') as f:\n",
        "    # using csv.writer method from CSV package\n",
        "    write = csv.writer(f)      \n",
        "    write.writerow(final_prediction)"
      ],
      "execution_count": null,
      "outputs": []
    },
    {
      "cell_type": "markdown",
      "metadata": {
        "id": "DLD2IogyHa6E"
      },
      "source": [
        "# **Feature extraction**"
      ]
    },
    {
      "cell_type": "markdown",
      "metadata": {
        "id": "15XVBtozRoHp"
      },
      "source": [
        "After we implemented some Deep Learning Methods. We are goning to use the classical methods we saw in the course. For this porpuse, we need to create a dataset with the images we already have that describes some characteristics. We call this process Feature extraction."
      ]
    },
    {
      "cell_type": "markdown",
      "metadata": {
        "id": "uXbqzdjp97Xf"
      },
      "source": [
        "Our interest is to evaluate some of the characteristics of the cervical screening. In this case:\n",
        "\n",
        "*   Nucleus area\n",
        "*   Cytoplasm area\n",
        "*   Nucleus perimeter\n",
        "*   Cytoplasm perimeter\n",
        "*   Nucleus color\n",
        "*   Cytoplasm color\n",
        "*   Nucleus density\n",
        "*   Cytoplasm density\n",
        "\n",
        "\n",
        "Now, we are gonna test this results in a random example, in order to understand what information will show our algorithm. But first, let us create a folder with the respective images segmentation of the cell.\n",
        "\n"
      ]
    },
    {
      "cell_type": "code",
      "metadata": {
        "id": "b7dz8fsuluHr"
      },
      "source": [
        "!mkdir Feature\n",
        "!mkdir /content/Feature/Nuc\n",
        "!mkdir /content/Feature/Cyt"
      ],
      "execution_count": 14,
      "outputs": []
    },
    {
      "cell_type": "code",
      "metadata": {
        "id": "cQTPlywZrvLd"
      },
      "source": [
        "import shutil\n",
        "for i in range(len(normal)):\n",
        "  im_id=str(id[i])\n",
        "  shutil.move(\"/content/data/Train/\"+im_id+\"_segCyt.bmp\", \"/content/Feature/Cyt\")\n",
        "  shutil.move(\"/content/data/Train/\"+im_id+\"_segNuc.bmp\", \"/content/Feature/Nuc\")"
      ],
      "execution_count": 7,
      "outputs": []
    },
    {
      "cell_type": "markdown",
      "metadata": {
        "id": "1moeXMqX_V6i"
      },
      "source": [
        "Now that we have moved all the images, we can test our feature extraction functions."
      ]
    },
    {
      "cell_type": "code",
      "metadata": {
        "id": "3Omtwe4rZiR8"
      },
      "source": [
        "from skimage.io import imread, imshow\n",
        "imagenuc = imread(\"/content/Feature/Nuc/1095_segNuc.bmp\", as_gray=True)\n",
        "imagecyt = imread(\"/content/Feature/Cyt/1095_segCyt.bmp\", as_gray=True)\n",
        "imagecol= imread(\"/content/data/Train/1095.bmp\", as_gray=False)\n"
      ],
      "execution_count": 8,
      "outputs": []
    },
    {
      "cell_type": "markdown",
      "metadata": {
        "id": "S8QtP0hHDRgs"
      },
      "source": [
        "Here we can see that for the image 1095 we have displayed our 8 features. In order to understand more what this features mean. Let us see the last ones, the color of the nucleus and the cytoplasma and the density. "
      ]
    },
    {
      "cell_type": "code",
      "metadata": {
        "colab": {
          "base_uri": "https://localhost:8080/"
        },
        "id": "h909pho5Ce2l",
        "outputId": "fdccc67a-9686-4146-a18e-cd09d64952d2"
      },
      "source": [
        "features= area_nuc(imagenuc), area_cyt(imagecyt),perim_nuc(imagenuc), perim_cyt(imagecyt), col_nuc(imagecol, imagenuc), col_cyt(imagecol, imagecyt), den_nuc(imagecol, imagenuc), den_cyt(imagecol, imagecyt)\n",
        "features"
      ],
      "execution_count": 28,
      "outputs": [
        {
          "output_type": "execute_result",
          "data": {
            "text/plain": [
              "(12701.0, 7286.0, 216, 890, 381026.31, 1701700.579, 211260.108, 1058797.143)"
            ]
          },
          "metadata": {
            "tags": []
          },
          "execution_count": 28
        }
      ]
    },
    {
      "cell_type": "code",
      "metadata": {
        "colab": {
          "base_uri": "https://localhost:8080/",
          "height": 427
        },
        "id": "9zBjVfDtGhKC",
        "outputId": "f52043be-b925-4867-e8a9-893b9bd89983"
      },
      "source": [
        "multipleimage(imagenuc,imagecyt,imagecol)"
      ],
      "execution_count": 61,
      "outputs": [
        {
          "output_type": "display_data",
          "data": {
            "image/png": "[encoded data removed]",
            "text/plain": [
              "<Figure size 720x504 with 4 Axes>"
            ]
          },
          "metadata": {
            "tags": [],
            "needs_background": "light"
          }
        }
      ]
    },
    {
      "cell_type": "markdown",
      "metadata": {
        "id": "lWuGfPHNJpxt"
      },
      "source": [
        "We need to extract all the features for all the images. For this, we are gonna create a list with the id of the images and the respectives features."
      ]
    },
    {
      "cell_type": "code",
      "metadata": {
        "id": "5J_WC9_5tL3N"
      },
      "source": [
        "features=[]\n",
        "for cell in id:\n",
        "  cell_features=[]\n",
        "  imagenuc = imread(\"/content/Feature/Nuc/\"+str(cell)+\"_segNuc.bmp\", as_gray=True)\n",
        "  imagecyt = imread(\"/content/Feature/Cyt/\"+str(cell)+\"_segCyt.bmp\", as_gray=True)\n",
        "  imagecol= imread(\"/content/data/Train/\"+str(cell)+\".bmp\", as_gray=False)\n",
        "\n",
        "  cell_features.append(cell)\n",
        "  cell_features.append(area_nuc(imagenuc))\n",
        "  cell_features.append(area_cyt(imagecyt))\n",
        "  cell_features.append(perim_nuc(imagenuc))\n",
        "  cell_features.append(perim_cyt(imagecyt))\n",
        "  cell_features.append(col_nuc(imagecol, imagenuc))\n",
        "  cell_features.append(col_cyt(imagecol, imagecyt))\n",
        "  cell_features.append(den_nuc(imagecol, imagenuc))\n",
        "  cell_features.append(den_cyt(imagecol, imagecyt))\n",
        "  features.append(cell_features)"
      ],
      "execution_count": 9,
      "outputs": []
    },
    {
      "cell_type": "markdown",
      "metadata": {
        "id": "CokLQGz8Bd9T"
      },
      "source": [
        "Finally, we extract all the features in a .csv file in order to use it in the multiclass selection."
      ]
    },
    {
      "cell_type": "code",
      "metadata": {
        "id": "dFGy7SArywRt"
      },
      "source": [
        "outfile = open('/content/Features.csv','w')\n",
        "out = csv.writer(outfile)\n",
        "out.writerows(map(lambda x: [x], features))\n",
        "outfile.close()"
      ],
      "execution_count": 25,
      "outputs": []
    },
    {
      "cell_type": "markdown",
      "metadata": {
        "id": "HE1McRU8BnbF"
      },
      "source": [
        "#**Classical Methods**"
      ]
    },
    {
      "cell_type": "markdown",
      "metadata": {
        "id": "pXrATYSWlJ8v"
      },
      "source": [
        "With the same idea, we are going to use some of the classic methods usually used to classify the images. We will show below the solution of each question of the ML methodology (representation, optimization, model selection) and model evaluation. At this point, we assume that our feature extraction was correctly implemented."
      ]
    },
    {
      "cell_type": "markdown",
      "metadata": {
        "id": "xtFS07c-lwgn"
      },
      "source": [
        "###**Explore the dataset**\n",
        "\n",
        "______\n",
        "\n",
        "We start uploading the dataset, before it is necesary to add the names of each dataframe in order to analize the dataset correctly. At this point we have 8 dataframes with the features of the cervical screening.\n",
        "______\n"
      ]
    },
    {
      "cell_type": "code",
      "metadata": {
        "id": "bOcnewYTB7Dx"
      },
      "source": [
        "def warn(*args, **kwargs): pass\n",
        "import warnings\n",
        "warnings.warn = warn"
      ],
      "execution_count": 17,
      "outputs": []
    },
    {
      "cell_type": "code",
      "metadata": {
        "colab": {
          "base_uri": "https://localhost:8080/"
        },
        "id": "eYAXJew4CW9t",
        "outputId": "5fc2196c-8f91-47f0-b093-a072effa9af2"
      },
      "source": [
        "from google_drive_downloader import GoogleDriveDownloader as gdd\n",
        "gdd.download_file_from_google_drive(file_id='11Q-bIEQCTwXAmQj6yxo47B2jr9YioGF6',\n",
        "                                    dest_path='/content/data/features.csv')\n",
        "\n",
        "gdd.download_file_from_google_drive(file_id='1IGgzD14yuAUFPnBcz5cPlDBjsbCj_zZm',\n",
        "                                    dest_path='/content/data/features_test.csv')"
      ],
      "execution_count": 18,
      "outputs": [
        {
          "output_type": "stream",
          "text": [
            "Downloading 11Q-bIEQCTwXAmQj6yxo47B2jr9YioGF6 into /content/data/features.csv... Done.\n",
            "Downloading 1IGgzD14yuAUFPnBcz5cPlDBjsbCj_zZm into /content/data/features_test.csv... Done.\n"
          ],
          "name": "stdout"
        }
      ]
    },
    {
      "cell_type": "code",
      "metadata": {
        "id": "Gw0RhdVhC3u1"
      },
      "source": [
        "train_df = pd.read_csv(\"/content/data/features.csv\")"
      ],
      "execution_count": 19,
      "outputs": []
    },
    {
      "cell_type": "markdown",
      "metadata": {
        "id": "MmotUWRLmKZ5"
      },
      "source": [
        "\n",
        "____\n",
        "Here we can take a look to the final dataset. We have the ID, if the image is normal or abnormal, the group and the features.\n",
        "____"
      ]
    },
    {
      "cell_type": "code",
      "metadata": {
        "colab": {
          "base_uri": "https://localhost:8080/",
          "height": 379
        },
        "id": "Bcml0-30C8CA",
        "outputId": "309fcd28-aa1a-49b7-8ddd-580d47176979"
      },
      "source": [
        "train_df.head(10)"
      ],
      "execution_count": 20,
      "outputs": [
        {
          "output_type": "execute_result",
          "data": {
            "text/html": [
              "<div>\n",
              "<style scoped>\n",
              "    .dataframe tbody tr th:only-of-type {\n",
              "        vertical-align: middle;\n",
              "    }\n",
              "\n",
              "    .dataframe tbody tr th {\n",
              "        vertical-align: top;\n",
              "    }\n",
              "\n",
              "    .dataframe thead th {\n",
              "        text-align: right;\n",
              "    }\n",
              "</style>\n",
              "<table border=\"1\" class=\"dataframe\">\n",
              "  <thead>\n",
              "    <tr style=\"text-align: right;\">\n",
              "      <th></th>\n",
              "      <th>ID</th>\n",
              "      <th>ABNORMAL</th>\n",
              "      <th>GROUP</th>\n",
              "      <th>F1</th>\n",
              "      <th>F2</th>\n",
              "      <th>F3</th>\n",
              "      <th>F4</th>\n",
              "      <th>F5</th>\n",
              "      <th>F6</th>\n",
              "      <th>F7</th>\n",
              "      <th>F8</th>\n",
              "    </tr>\n",
              "  </thead>\n",
              "  <tbody>\n",
              "    <tr>\n",
              "      <th>0</th>\n",
              "      <td>4289</td>\n",
              "      <td>1</td>\n",
              "      <td>7</td>\n",
              "      <td>8497.666667</td>\n",
              "      <td>6034.000000</td>\n",
              "      <td>269</td>\n",
              "      <td>809</td>\n",
              "      <td>827797.209</td>\n",
              "      <td>1615178.724</td>\n",
              "      <td>396447.353</td>\n",
              "      <td>849407.094</td>\n",
              "    </tr>\n",
              "    <tr>\n",
              "      <th>1</th>\n",
              "      <td>1810</td>\n",
              "      <td>1</td>\n",
              "      <td>8</td>\n",
              "      <td>10179.333333</td>\n",
              "      <td>8456.000000</td>\n",
              "      <td>308</td>\n",
              "      <td>919</td>\n",
              "      <td>962330.408</td>\n",
              "      <td>1351416.415</td>\n",
              "      <td>409455.086</td>\n",
              "      <td>745399.673</td>\n",
              "    </tr>\n",
              "    <tr>\n",
              "      <th>2</th>\n",
              "      <td>1906</td>\n",
              "      <td>1</td>\n",
              "      <td>8</td>\n",
              "      <td>4429.000000</td>\n",
              "      <td>2496.333333</td>\n",
              "      <td>103</td>\n",
              "      <td>444</td>\n",
              "      <td>90662.844</td>\n",
              "      <td>605080.851</td>\n",
              "      <td>61153.414</td>\n",
              "      <td>406308.405</td>\n",
              "    </tr>\n",
              "    <tr>\n",
              "      <th>3</th>\n",
              "      <td>3944</td>\n",
              "      <td>0</td>\n",
              "      <td>1</td>\n",
              "      <td>16930.333333</td>\n",
              "      <td>8125.333333</td>\n",
              "      <td>244</td>\n",
              "      <td>994</td>\n",
              "      <td>637671.998</td>\n",
              "      <td>4490930.949</td>\n",
              "      <td>330108.710</td>\n",
              "      <td>2203489.213</td>\n",
              "    </tr>\n",
              "    <tr>\n",
              "      <th>4</th>\n",
              "      <td>1597</td>\n",
              "      <td>1</td>\n",
              "      <td>7</td>\n",
              "      <td>4666.666667</td>\n",
              "      <td>3020.666667</td>\n",
              "      <td>176</td>\n",
              "      <td>527</td>\n",
              "      <td>258868.907</td>\n",
              "      <td>604800.378</td>\n",
              "      <td>146287.787</td>\n",
              "      <td>339732.798</td>\n",
              "    </tr>\n",
              "    <tr>\n",
              "      <th>5</th>\n",
              "      <td>1278</td>\n",
              "      <td>1</td>\n",
              "      <td>3</td>\n",
              "      <td>1385.666667</td>\n",
              "      <td>2201.333333</td>\n",
              "      <td>305</td>\n",
              "      <td>547</td>\n",
              "      <td>459042.510</td>\n",
              "      <td>81491.990</td>\n",
              "      <td>4157.000</td>\n",
              "      <td>6677.438</td>\n",
              "    </tr>\n",
              "    <tr>\n",
              "      <th>6</th>\n",
              "      <td>1715</td>\n",
              "      <td>1</td>\n",
              "      <td>5</td>\n",
              "      <td>1756.000000</td>\n",
              "      <td>2387.666667</td>\n",
              "      <td>299</td>\n",
              "      <td>376</td>\n",
              "      <td>791303.950</td>\n",
              "      <td>235916.442</td>\n",
              "      <td>5268.000</td>\n",
              "      <td>7163.000</td>\n",
              "    </tr>\n",
              "    <tr>\n",
              "      <th>7</th>\n",
              "      <td>3020</td>\n",
              "      <td>0</td>\n",
              "      <td>1</td>\n",
              "      <td>11812.666667</td>\n",
              "      <td>7002.000000</td>\n",
              "      <td>241</td>\n",
              "      <td>949</td>\n",
              "      <td>567107.524</td>\n",
              "      <td>2271326.372</td>\n",
              "      <td>323352.684</td>\n",
              "      <td>1144042.950</td>\n",
              "    </tr>\n",
              "    <tr>\n",
              "      <th>8</th>\n",
              "      <td>1115</td>\n",
              "      <td>0</td>\n",
              "      <td>0</td>\n",
              "      <td>55520.666667</td>\n",
              "      <td>24253.333333</td>\n",
              "      <td>149</td>\n",
              "      <td>1443</td>\n",
              "      <td>228211.875</td>\n",
              "      <td>7504206.609</td>\n",
              "      <td>278846.233</td>\n",
              "      <td>5250446.545</td>\n",
              "    </tr>\n",
              "    <tr>\n",
              "      <th>9</th>\n",
              "      <td>3107</td>\n",
              "      <td>0</td>\n",
              "      <td>0</td>\n",
              "      <td>17737.666667</td>\n",
              "      <td>8796.000000</td>\n",
              "      <td>135</td>\n",
              "      <td>931</td>\n",
              "      <td>204259.436</td>\n",
              "      <td>2007874.964</td>\n",
              "      <td>53213.000</td>\n",
              "      <td>27709.074</td>\n",
              "    </tr>\n",
              "  </tbody>\n",
              "</table>\n",
              "</div>"
            ],
            "text/plain": [
              "     ID  ABNORMAL  GROUP  ...           F6          F7           F8\n",
              "0  4289         1      7  ...  1615178.724  396447.353   849407.094\n",
              "1  1810         1      8  ...  1351416.415  409455.086   745399.673\n",
              "2  1906         1      8  ...   605080.851   61153.414   406308.405\n",
              "3  3944         0      1  ...  4490930.949  330108.710  2203489.213\n",
              "4  1597         1      7  ...   604800.378  146287.787   339732.798\n",
              "5  1278         1      3  ...    81491.990    4157.000     6677.438\n",
              "6  1715         1      5  ...   235916.442    5268.000     7163.000\n",
              "7  3020         0      1  ...  2271326.372  323352.684  1144042.950\n",
              "8  1115         0      0  ...  7504206.609  278846.233  5250446.545\n",
              "9  3107         0      0  ...  2007874.964   53213.000    27709.074\n",
              "\n",
              "[10 rows x 11 columns]"
            ]
          },
          "metadata": {
            "tags": []
          },
          "execution_count": 20
        }
      ]
    },
    {
      "cell_type": "markdown",
      "metadata": {
        "id": "aKqtTQFLm3xj"
      },
      "source": [
        "_____\n",
        "It is important to evaluate how many samples have each class in order to see if we are working with a balanced or unbalanced dataset. Here we can see that the difference between Normal and Abnormal is not significative. \n",
        "_____"
      ]
    },
    {
      "cell_type": "code",
      "metadata": {
        "colab": {
          "base_uri": "https://localhost:8080/"
        },
        "id": "E5eKTn6HC--g",
        "outputId": "8bcfbda9-7294-476f-fd4f-f7762cdd3d2b"
      },
      "source": [
        "train_df[\"ABNORMAL\"].value_counts()[:]"
      ],
      "execution_count": 21,
      "outputs": [
        {
          "output_type": "execute_result",
          "data": {
            "text/plain": [
              "1    1109\n",
              "0     938\n",
              "Name: ABNORMAL, dtype: int64"
            ]
          },
          "metadata": {
            "tags": []
          },
          "execution_count": 21
        }
      ]
    },
    {
      "cell_type": "code",
      "metadata": {
        "colab": {
          "base_uri": "https://localhost:8080/"
        },
        "id": "sU3-2zthDEVv",
        "outputId": "903c6056-654d-428d-8bfc-586f47875ce0"
      },
      "source": [
        "train_df.shape"
      ],
      "execution_count": 22,
      "outputs": [
        {
          "output_type": "execute_result",
          "data": {
            "text/plain": [
              "(2047, 11)"
            ]
          },
          "metadata": {
            "tags": []
          },
          "execution_count": 22
        }
      ]
    },
    {
      "cell_type": "code",
      "metadata": {
        "id": "bKiXfvgeDJWL"
      },
      "source": [
        "train_df.info()"
      ],
      "execution_count": null,
      "outputs": []
    },
    {
      "cell_type": "code",
      "metadata": {
        "id": "Ezwo4JTEDMgG"
      },
      "source": [
        "test_df = pd.read_csv(\"/content/data/features_test.csv\")"
      ],
      "execution_count": 24,
      "outputs": []
    },
    {
      "cell_type": "code",
      "metadata": {
        "colab": {
          "base_uri": "https://localhost:8080/",
          "height": 224
        },
        "id": "xzejd-pxFYaH",
        "outputId": "e213a882-ed5c-469e-b670-d435c03d436e"
      },
      "source": [
        "test_df.head()"
      ],
      "execution_count": 25,
      "outputs": [
        {
          "output_type": "execute_result",
          "data": {
            "text/html": [
              "<div>\n",
              "<style scoped>\n",
              "    .dataframe tbody tr th:only-of-type {\n",
              "        vertical-align: middle;\n",
              "    }\n",
              "\n",
              "    .dataframe tbody tr th {\n",
              "        vertical-align: top;\n",
              "    }\n",
              "\n",
              "    .dataframe thead th {\n",
              "        text-align: right;\n",
              "    }\n",
              "</style>\n",
              "<table border=\"1\" class=\"dataframe\">\n",
              "  <thead>\n",
              "    <tr style=\"text-align: right;\">\n",
              "      <th></th>\n",
              "      <th>ID</th>\n",
              "      <th>ABNORMAL</th>\n",
              "      <th>GROUP</th>\n",
              "      <th>F1</th>\n",
              "      <th>F2</th>\n",
              "      <th>F3</th>\n",
              "      <th>F4</th>\n",
              "      <th>F5</th>\n",
              "      <th>F6</th>\n",
              "      <th>F7</th>\n",
              "      <th>F8</th>\n",
              "    </tr>\n",
              "  </thead>\n",
              "  <tbody>\n",
              "    <tr>\n",
              "      <th>0</th>\n",
              "      <td>1721</td>\n",
              "      <td>1</td>\n",
              "      <td>8</td>\n",
              "      <td>13240.000000</td>\n",
              "      <td>12420.666667</td>\n",
              "      <td>311</td>\n",
              "      <td>1039</td>\n",
              "      <td>664865.509</td>\n",
              "      <td>999638.337</td>\n",
              "      <td>289859.901</td>\n",
              "      <td>436045.643</td>\n",
              "    </tr>\n",
              "    <tr>\n",
              "      <th>1</th>\n",
              "      <td>311</td>\n",
              "      <td>0</td>\n",
              "      <td>1</td>\n",
              "      <td>11191.000000</td>\n",
              "      <td>6905.666667</td>\n",
              "      <td>263</td>\n",
              "      <td>827</td>\n",
              "      <td>589913.325</td>\n",
              "      <td>1754699.401</td>\n",
              "      <td>325767.967</td>\n",
              "      <td>984093.049</td>\n",
              "    </tr>\n",
              "    <tr>\n",
              "      <th>2</th>\n",
              "      <td>1502</td>\n",
              "      <td>1</td>\n",
              "      <td>7</td>\n",
              "      <td>4756.000000</td>\n",
              "      <td>3110.000000</td>\n",
              "      <td>138</td>\n",
              "      <td>481</td>\n",
              "      <td>238814.132</td>\n",
              "      <td>595099.573</td>\n",
              "      <td>125480.734</td>\n",
              "      <td>333446.991</td>\n",
              "    </tr>\n",
              "    <tr>\n",
              "      <th>3</th>\n",
              "      <td>4227</td>\n",
              "      <td>0</td>\n",
              "      <td>1</td>\n",
              "      <td>4553.000000</td>\n",
              "      <td>3257.333333</td>\n",
              "      <td>185</td>\n",
              "      <td>551</td>\n",
              "      <td>272089.636</td>\n",
              "      <td>525695.560</td>\n",
              "      <td>158628.770</td>\n",
              "      <td>358861.372</td>\n",
              "    </tr>\n",
              "    <tr>\n",
              "      <th>4</th>\n",
              "      <td>3604</td>\n",
              "      <td>1</td>\n",
              "      <td>7</td>\n",
              "      <td>3259.333333</td>\n",
              "      <td>2613.333333</td>\n",
              "      <td>168</td>\n",
              "      <td>472</td>\n",
              "      <td>373028.060</td>\n",
              "      <td>652240.510</td>\n",
              "      <td>134914.862</td>\n",
              "      <td>287363.686</td>\n",
              "    </tr>\n",
              "  </tbody>\n",
              "</table>\n",
              "</div>"
            ],
            "text/plain": [
              "     ID  ABNORMAL  GROUP  ...           F6          F7          F8\n",
              "0  1721         1      8  ...   999638.337  289859.901  436045.643\n",
              "1   311         0      1  ...  1754699.401  325767.967  984093.049\n",
              "2  1502         1      7  ...   595099.573  125480.734  333446.991\n",
              "3  4227         0      1  ...   525695.560  158628.770  358861.372\n",
              "4  3604         1      7  ...   652240.510  134914.862  287363.686\n",
              "\n",
              "[5 rows x 11 columns]"
            ]
          },
          "metadata": {
            "tags": []
          },
          "execution_count": 25
        }
      ]
    },
    {
      "cell_type": "code",
      "metadata": {
        "colab": {
          "base_uri": "https://localhost:8080/"
        },
        "id": "G8tYqibwFai6",
        "outputId": "c5c6aba9-3679-4bfa-cca8-b7c7fc4f73c5"
      },
      "source": [
        "test_df.shape"
      ],
      "execution_count": 26,
      "outputs": [
        {
          "output_type": "execute_result",
          "data": {
            "text/plain": [
              "(874, 11)"
            ]
          },
          "metadata": {
            "tags": []
          },
          "execution_count": 26
        }
      ]
    },
    {
      "cell_type": "code",
      "metadata": {
        "id": "Zir4p-WbFdJ7"
      },
      "source": [
        "test_df.info()"
      ],
      "execution_count": null,
      "outputs": []
    },
    {
      "cell_type": "markdown",
      "metadata": {
        "id": "0UBNvPEyHBh0"
      },
      "source": [
        "_____\n",
        "\n",
        "###**Exploratory data analysis**\n",
        "\n",
        "In order to evaluate the best solution, we need to representate some of the variables we are gonna use in our model. For that, we are gonna implement the EDA, this is an approach of analyzing data sets to summarize their main characteristics, often using statistical graphics and other data visualization methods. The idea is to  see what the data can tell us beyond the formal modeling or hypothesis testing task. \n",
        "_____\n"
      ]
    },
    {
      "cell_type": "markdown",
      "metadata": {
        "id": "Lt9ZontuqHk3"
      },
      "source": [
        "**Feature 1 - Nucleus area**:\n",
        "\n",
        "Let us take a look to the Nucleus area. We can constate that the ABNORMAL has a higuer nuclus area  than the class NORMAL class. This is how the model will take into account these examples in order to classify the input."
      ]
    },
    {
      "cell_type": "code",
      "metadata": {
        "colab": {
          "base_uri": "https://localhost:8080/",
          "height": 265
        },
        "id": "kdYZ1U9iHCN5",
        "outputId": "4e91d488-603a-4c56-9642-138fc4c7b6c6"
      },
      "source": [
        "_ = plt.scatter(train_df[\"ABNORMAL\"], train_df[\"F1\"])"
      ],
      "execution_count": 40,
      "outputs": [
        {
          "output_type": "display_data",
          "data": {
            "image/png": "[encoded data removed]",
            "text/plain": [
              "<Figure size 432x288 with 1 Axes>"
            ]
          },
          "metadata": {
            "tags": [],
            "needs_background": "light"
          }
        }
      ]
    },
    {
      "cell_type": "markdown",
      "metadata": {
        "id": "tY49k73-wLLI"
      },
      "source": [
        "**Feature 5 - Nucleus Color**:\n",
        "\n",
        "Instead the nucelus color has higuer values in the NORMAL class than in the ABNORMAL class. This could be a discriminant factor for our model."
      ]
    },
    {
      "cell_type": "code",
      "metadata": {
        "colab": {
          "base_uri": "https://localhost:8080/",
          "height": 276
        },
        "id": "3MTX5EjgF-0y",
        "outputId": "89e96af0-ee94-4905-9da8-9d9318a36bbe"
      },
      "source": [
        "_ = plt.scatter(train_df[\"ABNORMAL\"], train_df[\"F5\"])\n"
      ],
      "execution_count": 39,
      "outputs": [
        {
          "output_type": "display_data",
          "data": {
            "image/png": "[encoded data removed]",
            "text/plain": [
              "<Figure size 432x288 with 1 Axes>"
            ]
          },
          "metadata": {
            "tags": [],
            "needs_background": "light"
          }
        }
      ]
    },
    {
      "cell_type": "markdown",
      "metadata": {
        "id": "huYBKcrPpvKs"
      },
      "source": [
        "_____\n",
        "###**Distribution after scaling**\n",
        "\n",
        "Machine learning algorithm just sees numbers. If there is a vast difference in the range say few ranging in thousands and few ranging in the tens, and it makes the underlying assumption that higher ranging numbers have superiority of some sort. So these more significant number starts playing a more decisive role while training the model. For this reason it is important to scale the data before the train.\n",
        "______"
      ]
    },
    {
      "cell_type": "code",
      "metadata": {
        "colab": {
          "base_uri": "https://localhost:8080/",
          "height": 224
        },
        "id": "LIiHA1c-FjNN",
        "outputId": "90519719-d84f-46f1-850d-c1101291e3d0"
      },
      "source": [
        "train_df, labels, test_df, test_ids, classes = encode(train_df, test_df)\n",
        "train_df.head()"
      ],
      "execution_count": 29,
      "outputs": [
        {
          "output_type": "execute_result",
          "data": {
            "text/html": [
              "<div>\n",
              "<style scoped>\n",
              "    .dataframe tbody tr th:only-of-type {\n",
              "        vertical-align: middle;\n",
              "    }\n",
              "\n",
              "    .dataframe tbody tr th {\n",
              "        vertical-align: top;\n",
              "    }\n",
              "\n",
              "    .dataframe thead th {\n",
              "        text-align: right;\n",
              "    }\n",
              "</style>\n",
              "<table border=\"1\" class=\"dataframe\">\n",
              "  <thead>\n",
              "    <tr style=\"text-align: right;\">\n",
              "      <th></th>\n",
              "      <th>F1</th>\n",
              "      <th>F2</th>\n",
              "      <th>F3</th>\n",
              "      <th>F4</th>\n",
              "      <th>F5</th>\n",
              "      <th>F6</th>\n",
              "      <th>F7</th>\n",
              "      <th>F8</th>\n",
              "    </tr>\n",
              "  </thead>\n",
              "  <tbody>\n",
              "    <tr>\n",
              "      <th>0</th>\n",
              "      <td>8497.666667</td>\n",
              "      <td>6034.000000</td>\n",
              "      <td>269</td>\n",
              "      <td>809</td>\n",
              "      <td>827797.209</td>\n",
              "      <td>1615178.724</td>\n",
              "      <td>396447.353</td>\n",
              "      <td>849407.094</td>\n",
              "    </tr>\n",
              "    <tr>\n",
              "      <th>1</th>\n",
              "      <td>10179.333333</td>\n",
              "      <td>8456.000000</td>\n",
              "      <td>308</td>\n",
              "      <td>919</td>\n",
              "      <td>962330.408</td>\n",
              "      <td>1351416.415</td>\n",
              "      <td>409455.086</td>\n",
              "      <td>745399.673</td>\n",
              "    </tr>\n",
              "    <tr>\n",
              "      <th>2</th>\n",
              "      <td>4429.000000</td>\n",
              "      <td>2496.333333</td>\n",
              "      <td>103</td>\n",
              "      <td>444</td>\n",
              "      <td>90662.844</td>\n",
              "      <td>605080.851</td>\n",
              "      <td>61153.414</td>\n",
              "      <td>406308.405</td>\n",
              "    </tr>\n",
              "    <tr>\n",
              "      <th>3</th>\n",
              "      <td>16930.333333</td>\n",
              "      <td>8125.333333</td>\n",
              "      <td>244</td>\n",
              "      <td>994</td>\n",
              "      <td>637671.998</td>\n",
              "      <td>4490930.949</td>\n",
              "      <td>330108.710</td>\n",
              "      <td>2203489.213</td>\n",
              "    </tr>\n",
              "    <tr>\n",
              "      <th>4</th>\n",
              "      <td>4666.666667</td>\n",
              "      <td>3020.666667</td>\n",
              "      <td>176</td>\n",
              "      <td>527</td>\n",
              "      <td>258868.907</td>\n",
              "      <td>604800.378</td>\n",
              "      <td>146287.787</td>\n",
              "      <td>339732.798</td>\n",
              "    </tr>\n",
              "  </tbody>\n",
              "</table>\n",
              "</div>"
            ],
            "text/plain": [
              "             F1           F2   F3  ...           F6          F7           F8\n",
              "0   8497.666667  6034.000000  269  ...  1615178.724  396447.353   849407.094\n",
              "1  10179.333333  8456.000000  308  ...  1351416.415  409455.086   745399.673\n",
              "2   4429.000000  2496.333333  103  ...   605080.851   61153.414   406308.405\n",
              "3  16930.333333  8125.333333  244  ...  4490930.949  330108.710  2203489.213\n",
              "4   4666.666667  3020.666667  176  ...   604800.378  146287.787   339732.798\n",
              "\n",
              "[5 rows x 8 columns]"
            ]
          },
          "metadata": {
            "tags": []
          },
          "execution_count": 29
        }
      ]
    },
    {
      "cell_type": "code",
      "metadata": {
        "id": "u3Yv64rHF0Df"
      },
      "source": [
        "X = train_df.values\n",
        "y = labels"
      ],
      "execution_count": 30,
      "outputs": []
    },
    {
      "cell_type": "code",
      "metadata": {
        "colab": {
          "base_uri": "https://localhost:8080/"
        },
        "id": "4-Ra_tdJF4CV",
        "outputId": "2836a4bc-e2ed-4f03-c44f-43f54c5e40b2"
      },
      "source": [
        "sss = StratifiedShuffleSplit(test_size = 0.2, random_state= 8)\n",
        "sss.get_n_splits(X, y)"
      ],
      "execution_count": 31,
      "outputs": [
        {
          "output_type": "execute_result",
          "data": {
            "text/plain": [
              "10"
            ]
          },
          "metadata": {
            "tags": []
          },
          "execution_count": 31
        }
      ]
    },
    {
      "cell_type": "code",
      "metadata": {
        "id": "LHfR3Zj7F6Qc"
      },
      "source": [
        "for train_index, test_index in sss.split(X,y):\n",
        "    X_train, X_test = X[train_index],X[test_index]\n",
        "    y_train, y_test = y[train_index],y[test_index]"
      ],
      "execution_count": 32,
      "outputs": []
    },
    {
      "cell_type": "code",
      "metadata": {
        "id": "DoHtJOmjF8QW"
      },
      "source": [
        "scaler = StandardScaler()\n",
        "scaled_data = scaler.fit_transform(np.sqrt(X_train))\n",
        "scaled_test_data = scaler.transform(np.sqrt(X_test))"
      ],
      "execution_count": 33,
      "outputs": []
    },
    {
      "cell_type": "markdown",
      "metadata": {
        "id": "KYPVE-2n9OgS"
      },
      "source": [
        "_______\n",
        "### **Distribution of the raw data and division Train - Test**\n",
        "Now, in order to assure that our model will be trained and tested in good conditions. We check that the distribution of the raw data is similar between train and test datasets. The histograms we show below are donne after the scaling of the data.\n",
        "_________"
      ]
    },
    {
      "cell_type": "code",
      "metadata": {
        "colab": {
          "base_uri": "https://localhost:8080/",
          "height": 278
        },
        "id": "6s0s_DMPHTyo",
        "outputId": "43cdf785-03af-4447-e0ba-bb4f281b588d"
      },
      "source": [
        "_ = plt.hist(X_train,bins= 100,facecolor='blue')"
      ],
      "execution_count": 56,
      "outputs": [
        {
          "output_type": "display_data",
          "data": {
            "image/png": "[encoded data removed]",
            "text/plain": [
              "<Figure size 432x288 with 1 Axes>"
            ]
          },
          "metadata": {
            "tags": [],
            "needs_background": "light"
          }
        }
      ]
    },
    {
      "cell_type": "code",
      "metadata": {
        "colab": {
          "base_uri": "https://localhost:8080/",
          "height": 278
        },
        "id": "VWHDSeenHXRC",
        "outputId": "945ef762-ea22-4f50-aedf-dea24b588af5"
      },
      "source": [
        "_ = plt.hist(X_train, bins = 100, facecolor= \"blue\")"
      ],
      "execution_count": 57,
      "outputs": [
        {
          "output_type": "display_data",
          "data": {
            "image/png": "[encoded data removed]",
            "text/plain": [
              "<Figure size 432x288 with 1 Axes>"
            ]
          },
          "metadata": {
            "tags": [],
            "needs_background": "light"
          }
        }
      ]
    },
    {
      "cell_type": "markdown",
      "metadata": {
        "id": "K8I5uvKX9ZO0"
      },
      "source": [
        "##**Select and test models**"
      ]
    },
    {
      "cell_type": "markdown",
      "metadata": {
        "id": "C7Sq6SB29dht"
      },
      "source": [
        "#### **Raw data**"
      ]
    },
    {
      "cell_type": "markdown",
      "metadata": {
        "id": "WbszBmxW9fg2"
      },
      "source": [
        "____\n",
        "First, we are gonna implement four of the algorithms we already used in class. KNeighbors, Random Forest and Gaussian NB. We are going to test the accuracy and log_loss with raw data. Then we will apply some optimization methods in order to improve our results.\n",
        "____"
      ]
    },
    {
      "cell_type": "code",
      "metadata": {
        "colab": {
          "base_uri": "https://localhost:8080/"
        },
        "id": "ZZkkYMe0HaLL",
        "outputId": "02ba7f37-9bea-4c91-c1fd-7ea805e51cbe"
      },
      "source": [
        "classifiers_exp = [\n",
        "    KNeighborsClassifier(3,n_jobs= -1),\n",
        "    RandomForestClassifier(),\n",
        "    GaussianNB(),\n",
        "    LogisticRegression()]\n",
        "\n",
        "log_cols=[\"Classifier\", \"Accuracy\", \"Log Loss\"]\n",
        "log = pd.DataFrame(columns=log_cols)\n",
        "\n",
        "for clf in classifiers_exp:\n",
        "    clf.fit(X_train, y_train)\n",
        "    name = clf.__class__.__name__\n",
        "    \n",
        "\n",
        "    print(\"=\"*30)\n",
        "    print(name)\n",
        "    \n",
        "    print('****Results****')\n",
        "    train_predictions = clf.predict(X_test)\n",
        "    acc = accuracy_score(y_test, train_predictions)\n",
        "    print(\"Accuracy: {:.4%}\".format(acc))\n",
        "    \n",
        "    train_predictions = clf.predict_proba(X_test)\n",
        "    ll = log_loss(y_test, train_predictions)\n",
        "    print(\"Log Loss: {}\".format(ll))\n",
        "    \n",
        "    log_entry = pd.DataFrame([[name, acc*100, ll]], columns=log_cols)\n",
        "    log = log.append(log_entry)\n",
        "    \n",
        "print(\"=\"*30)"
      ],
      "execution_count": 34,
      "outputs": [
        {
          "output_type": "stream",
          "text": [
            "==============================\n",
            "KNeighborsClassifier\n",
            "****Results****\n",
            "Accuracy: 84.3902%\n",
            "Log Loss: 2.18830007685627\n",
            "==============================\n",
            "RandomForestClassifier\n",
            "****Results****\n",
            "Accuracy: 87.5610%\n",
            "Log Loss: 0.3025907104180042\n",
            "==============================\n",
            "GaussianNB\n",
            "****Results****\n",
            "Accuracy: 81.4634%\n",
            "Log Loss: 1.417736664574031\n",
            "==============================\n",
            "LogisticRegression\n",
            "****Results****\n",
            "Accuracy: 82.6829%\n",
            "Log Loss: 0.39042331087810705\n",
            "==============================\n"
          ],
          "name": "stdout"
        }
      ]
    },
    {
      "cell_type": "markdown",
      "metadata": {
        "id": "6rUnluLc9lF6"
      },
      "source": [
        "_____\n",
        "Here we can see that the Random Forest show the best perfonce with an accuracy of 87.56% and Logistic Loss 0.3025 by constructing a multitude of decision trees at training time and outputting the class that is the mode of the classes. Instead, Gaussian NB show a lower accuracy with 81.46%, and K NeighBors Classfier has the higuer loss with 2.1883. It is important to say that this is the raw data, that means that our result could be improved with data pre-processing and optimization methods as we will see below.\n",
        "______"
      ]
    },
    {
      "cell_type": "markdown",
      "metadata": {
        "id": "CkKLj_8S__Jr"
      },
      "source": [
        "### **Deskewing**\n",
        "\n",
        "Deskewing is a process whereby skew is removed by rotating an image by the same amount as its skew but in the opposite direction. However, we can apply this same logic in order to optimize our models. Since some the covariates of the classes are well defined. We can use this like a reference and approximate other covariates in order to approach to an specific class."
      ]
    },
    {
      "cell_type": "code",
      "metadata": {
        "id": "8GeUlxWlHgJD"
      },
      "source": [
        "from sklearn.base import BaseEstimator, TransformerMixin\n",
        "class Deskew(BaseEstimator, TransformerMixin):\n",
        "    def __init__ (self,alpha=1):\n",
        "        self.alpha = alpha\n",
        "    def _reset(self):\n",
        "        pass\n",
        "    def fit(self,X,y):\n",
        "        return self\n",
        "    def transform(self,X):\n",
        "        return np.log(X + self.alpha)\n",
        "    def fit_transform(self,X,y):\n",
        "        return self.transform(X)\n",
        "    def inverse_transform(self, X):\n",
        "        return np.exp(X) - self.alpha\n",
        "    def score(self,X,y):\n",
        "        pass"
      ],
      "execution_count": 35,
      "outputs": []
    },
    {
      "cell_type": "code",
      "metadata": {
        "id": "93Io5MlzHjeV"
      },
      "source": [
        "deskew = Deskew()"
      ],
      "execution_count": 36,
      "outputs": []
    },
    {
      "cell_type": "markdown",
      "metadata": {
        "id": "Fq3pW2zuAwdo"
      },
      "source": [
        "## **Logistic Regression**\n",
        "\n",
        "Let us start with our first model, Logistic Regression. In the multiclass case, the training algorithm uses the one-vs-rest (OvR) scheme if the ‘multi_class’ option is set to ‘ovr’, and uses the cross-entropy loss if the ‘multi_class’ option is set to ‘multinomial’. In this case we set in auto, that selects ‘multi_class’ by default."
      ]
    },
    {
      "cell_type": "code",
      "metadata": {
        "id": "HxY_PgRGHmUb"
      },
      "source": [
        "logreg_pipe = Pipeline([\n",
        "    (\"deskew\", Deskew()),\n",
        "    (\"scaler\" , StandardScaler()),\n",
        "    (\"logit\", LogisticRegression(random_state=8,n_jobs= -1))\n",
        "])"
      ],
      "execution_count": 37,
      "outputs": []
    },
    {
      "cell_type": "markdown",
      "metadata": {
        "id": "bdDHPp9YB43G"
      },
      "source": [
        "Pipeline only"
      ]
    },
    {
      "cell_type": "code",
      "metadata": {
        "id": "LBCuQMRMHoqx"
      },
      "source": [
        "logreg_pipe.fit(X_train,y_train)"
      ],
      "execution_count": null,
      "outputs": []
    },
    {
      "cell_type": "code",
      "metadata": {
        "colab": {
          "base_uri": "https://localhost:8080/"
        },
        "id": "CxqHkoFNHq_l",
        "outputId": "18d15a40-1d34-40d0-e1ca-ce6fd0e2035b"
      },
      "source": [
        "logreg_pipe.score(X_train,y_train)"
      ],
      "execution_count": 39,
      "outputs": [
        {
          "output_type": "execute_result",
          "data": {
            "text/plain": [
              "0.7929138668295663"
            ]
          },
          "metadata": {
            "tags": []
          },
          "execution_count": 39
        }
      ]
    },
    {
      "cell_type": "code",
      "metadata": {
        "colab": {
          "base_uri": "https://localhost:8080/"
        },
        "id": "mzI1WlVxHuCE",
        "outputId": "2400611c-576f-41d8-f47a-d349d087798f"
      },
      "source": [
        "train_predictions = logreg_pipe.predict(X_test)\n",
        "accuracy_logreg = accuracy_score(y_test, train_predictions)\n",
        "accuracy_logreg"
      ],
      "execution_count": 40,
      "outputs": [
        {
          "output_type": "execute_result",
          "data": {
            "text/plain": [
              "0.8195121951219512"
            ]
          },
          "metadata": {
            "tags": []
          },
          "execution_count": 40
        }
      ]
    },
    {
      "cell_type": "code",
      "metadata": {
        "colab": {
          "base_uri": "https://localhost:8080/"
        },
        "id": "bWwEWgIZHu7G",
        "outputId": "d44bd0fc-6cc1-4e2a-a258-60d4d225a0b6"
      },
      "source": [
        "train_predictions_logreg = logreg_pipe.predict_proba(X_test)\n",
        "log_loss_logreg = log_loss(y_test, train_predictions_logreg)\n",
        "log_loss_logreg"
      ],
      "execution_count": 41,
      "outputs": [
        {
          "output_type": "execute_result",
          "data": {
            "text/plain": [
              "0.421485986589342"
            ]
          },
          "metadata": {
            "tags": []
          },
          "execution_count": 41
        }
      ]
    },
    {
      "cell_type": "code",
      "metadata": {
        "id": "Jw9iNsXwHxAr"
      },
      "source": [
        "logreg_params = {\n",
        "    \"logit__max_iter\" : [3,50],\n",
        "    \"logit__C\" : np.logspace(-4,4,9)\n",
        "}"
      ],
      "execution_count": 42,
      "outputs": []
    },
    {
      "cell_type": "markdown",
      "metadata": {
        "id": "0aMSyqO-B8jE"
      },
      "source": [
        "###**Logreg after GridSearch**\n",
        "\n",
        "Now we are gonna implement hyperparameter optimization.  With GridSearch we can start an exhaustive searching through a manually specified subset of the hyperparameter space of a learning algorithm. A grid search algorithm must be guided by some performance metric, typically measured by cross-validation on the training set or evaluation on a held-out validation set."
      ]
    },
    {
      "cell_type": "code",
      "metadata": {
        "id": "z9IKOnqaH0N0"
      },
      "source": [
        "#GridSearch \n",
        "gs_logreg = GridSearchCV(logreg_pipe, param_grid=logreg_params,cv = 5, n_jobs= -1)"
      ],
      "execution_count": 43,
      "outputs": []
    },
    {
      "cell_type": "code",
      "metadata": {
        "id": "gibzRTPHH20Q"
      },
      "source": [
        "#LogistticRegression GridSearch\n",
        "gs_logreg.fit(X_train, y_train)"
      ],
      "execution_count": null,
      "outputs": []
    },
    {
      "cell_type": "code",
      "metadata": {
        "colab": {
          "base_uri": "https://localhost:8080/"
        },
        "id": "GJMWLLMZH4iW",
        "outputId": "6d9792c6-a6b4-4630-9dbe-42a520890e7e"
      },
      "source": [
        "#LogistticRegression GridSearch\n",
        "gs_train_pred1 = gs_logreg.predict(X_test)\n",
        "accuracy_logreg_gs1 = accuracy_score(y_test, gs_train_pred1)\n",
        "accuracy_logreg_gs1"
      ],
      "execution_count": 45,
      "outputs": [
        {
          "output_type": "execute_result",
          "data": {
            "text/plain": [
              "0.8170731707317073"
            ]
          },
          "metadata": {
            "tags": []
          },
          "execution_count": 45
        }
      ]
    },
    {
      "cell_type": "code",
      "metadata": {
        "colab": {
          "base_uri": "https://localhost:8080/"
        },
        "id": "ZQ_ER0MbH7bm",
        "outputId": "50a067a3-ec8d-45fa-96df-d1e93a156f05"
      },
      "source": [
        "#LogisticRegression GridSearch Log_Loss\n",
        "gs_train_pred_logreg = gs_logreg.predict_proba(X_test)\n",
        "log_loss_logreg_gs = log_loss(y_test, gs_train_pred_logreg)\n",
        "log_loss_logreg_gs"
      ],
      "execution_count": 46,
      "outputs": [
        {
          "output_type": "execute_result",
          "data": {
            "text/plain": [
              "0.41953987313523666"
            ]
          },
          "metadata": {
            "tags": []
          },
          "execution_count": 46
        }
      ]
    },
    {
      "cell_type": "markdown",
      "metadata": {
        "id": "IoB8SuEMCJo3"
      },
      "source": [
        "##**Random Forest Classifier :**\n",
        "\n",
        "Now, we change the ensemble learning method for the Random Forest. Basically, we want to predict by constructing a multitude of decision trees at training time and outputting the class that is the mode of the classes (classification) or mean/average prediction (regression) of the individual trees."
      ]
    },
    {
      "cell_type": "code",
      "metadata": {
        "id": "7B0J0gRdH9qI"
      },
      "source": [
        "rfc_pipe = Pipeline([\n",
        "    (\"deskew\", Deskew()),\n",
        "    ('scaler',StandardScaler()),\n",
        "    ('clf', RandomForestClassifier(random_state=8))\n",
        "])"
      ],
      "execution_count": 47,
      "outputs": []
    },
    {
      "cell_type": "markdown",
      "metadata": {
        "id": "rXYzJuduCSIw"
      },
      "source": [
        "Pipeline only"
      ]
    },
    {
      "cell_type": "code",
      "metadata": {
        "id": "6L4jLE4hIAXa"
      },
      "source": [
        "rfc_pipe.fit(X_train, y_train)"
      ],
      "execution_count": null,
      "outputs": []
    },
    {
      "cell_type": "code",
      "metadata": {
        "colab": {
          "base_uri": "https://localhost:8080/"
        },
        "id": "appe9zRvICnG",
        "outputId": "c442c5eb-5a00-4b6d-8603-130fffc3f5fd"
      },
      "source": [
        "rfc_pipe.score(X_train,y_train)"
      ],
      "execution_count": 49,
      "outputs": [
        {
          "output_type": "execute_result",
          "data": {
            "text/plain": [
              "1.0"
            ]
          },
          "metadata": {
            "tags": []
          },
          "execution_count": 49
        }
      ]
    },
    {
      "cell_type": "code",
      "metadata": {
        "colab": {
          "base_uri": "https://localhost:8080/"
        },
        "id": "zL1tpe96IEmC",
        "outputId": "c4a9c6c4-5f21-40cd-80e5-e11163d0a0fb"
      },
      "source": [
        "rfc_predictions = rfc_pipe.predict(X_test)\n",
        "accuracy_rfc = accuracy_score(y_test, rfc_predictions)\n",
        "accuracy_rfc"
      ],
      "execution_count": 50,
      "outputs": [
        {
          "output_type": "execute_result",
          "data": {
            "text/plain": [
              "0.8829268292682927"
            ]
          },
          "metadata": {
            "tags": []
          },
          "execution_count": 50
        }
      ]
    },
    {
      "cell_type": "code",
      "metadata": {
        "colab": {
          "base_uri": "https://localhost:8080/"
        },
        "id": "J68fq0qhIGej",
        "outputId": "b029e324-47a4-4eb5-a88c-9a5518a87e53"
      },
      "source": [
        "rfc_predict_proba = rfc_pipe.predict_proba(X_test)\n",
        "rfc_log_loss = log_loss(y_test, rfc_predict_proba)\n",
        "rfc_log_loss"
      ],
      "execution_count": 51,
      "outputs": [
        {
          "output_type": "execute_result",
          "data": {
            "text/plain": [
              "0.3822331559671298"
            ]
          },
          "metadata": {
            "tags": []
          },
          "execution_count": 51
        }
      ]
    },
    {
      "cell_type": "code",
      "metadata": {
        "id": "sV8Xj7rBIIYQ"
      },
      "source": [
        "rfc_params = {\n",
        "    'clf__n_estimators':[10,50,100,200],\n",
        "    'clf__max_features':['auto','log2']\n",
        "}\n"
      ],
      "execution_count": 52,
      "outputs": []
    },
    {
      "cell_type": "markdown",
      "metadata": {
        "id": "DX--ko1tCVsY"
      },
      "source": [
        "### **Random Forest after GridSearch**"
      ]
    },
    {
      "cell_type": "code",
      "metadata": {
        "id": "_yoHKIhAIKFf"
      },
      "source": [
        "#you might want to fit on this\n",
        "rfc_gs = GridSearchCV(rfc_pipe, param_grid=rfc_params, cv=5,n_jobs=-1)\n",
        "rfc_gs.fit(X_train,y_train)"
      ],
      "execution_count": null,
      "outputs": []
    },
    {
      "cell_type": "code",
      "metadata": {
        "colab": {
          "base_uri": "https://localhost:8080/"
        },
        "id": "NflEhT2kINWF",
        "outputId": "e049aaa5-737a-48df-8ef2-bb47652d73f1"
      },
      "source": [
        "rfc_pred_gs = rfc_gs.predict(X_test)\n",
        "accuracy_rfc_gs = accuracy_score(y_test, rfc_pred_gs)\n",
        "accuracy_rfc_gs"
      ],
      "execution_count": 54,
      "outputs": [
        {
          "output_type": "execute_result",
          "data": {
            "text/plain": [
              "0.8707317073170732"
            ]
          },
          "metadata": {
            "tags": []
          },
          "execution_count": 54
        }
      ]
    },
    {
      "cell_type": "code",
      "metadata": {
        "colab": {
          "base_uri": "https://localhost:8080/"
        },
        "id": "lz27MwlFIPdG",
        "outputId": "df0852f0-bdac-4790-8a62-a72f0ab31452"
      },
      "source": [
        "rfc_predict_proba = rfc_gs.predict_proba(X_test)\n",
        "rfc_log_loss = log_loss(y_test, rfc_predict_proba)\n",
        "rfc_log_loss"
      ],
      "execution_count": 55,
      "outputs": [
        {
          "output_type": "execute_result",
          "data": {
            "text/plain": [
              "0.2940035558091526"
            ]
          },
          "metadata": {
            "tags": []
          },
          "execution_count": 55
        }
      ]
    },
    {
      "cell_type": "markdown",
      "metadata": {
        "id": "j3hbun04CaqQ"
      },
      "source": [
        "## **Naive Bayes Gaussian :**\n",
        "\n",
        "Another supervised learning algorithm is Naive Bayes. Based on applying Bayes’ theorem with the “naive” assumption of conditional independence between every pair of features given the value of the class variable."
      ]
    },
    {
      "cell_type": "code",
      "metadata": {
        "id": "84pAKTjoIRtd"
      },
      "source": [
        "gnb_pipe = Pipeline([\n",
        "    (\"deskew\", Deskew()),\n",
        "    ('scaler',StandardScaler()),\n",
        "    ('gnb', GaussianNB())\n",
        "])"
      ],
      "execution_count": 56,
      "outputs": []
    },
    {
      "cell_type": "markdown",
      "metadata": {
        "id": "G099XkorCf5S"
      },
      "source": [
        "Pipeline only"
      ]
    },
    {
      "cell_type": "code",
      "metadata": {
        "id": "7KCS8FDuIUUb"
      },
      "source": [
        "gnb_pipe.fit(X_train,y_train)"
      ],
      "execution_count": null,
      "outputs": []
    },
    {
      "cell_type": "code",
      "metadata": {
        "colab": {
          "base_uri": "https://localhost:8080/"
        },
        "id": "A5bJnG02IWq0",
        "outputId": "44dea13c-2527-43b1-95a8-26f55c89da06"
      },
      "source": [
        "gnb_pipe.score(X_train,y_train)"
      ],
      "execution_count": 58,
      "outputs": [
        {
          "output_type": "execute_result",
          "data": {
            "text/plain": [
              "0.7745876603543067"
            ]
          },
          "metadata": {
            "tags": []
          },
          "execution_count": 58
        }
      ]
    },
    {
      "cell_type": "code",
      "metadata": {
        "colab": {
          "base_uri": "https://localhost:8080/"
        },
        "id": "B59ZWEDGIZMm",
        "outputId": "1547b103-15c0-4231-efe0-5c374bfc6986"
      },
      "source": [
        "gnb_predictions = gnb_pipe.predict(X_test)\n",
        "accuracy_gnb = accuracy_score(y_test, gnb_predictions)\n",
        "accuracy_gnb"
      ],
      "execution_count": 59,
      "outputs": [
        {
          "output_type": "execute_result",
          "data": {
            "text/plain": [
              "0.8"
            ]
          },
          "metadata": {
            "tags": []
          },
          "execution_count": 59
        }
      ]
    },
    {
      "cell_type": "code",
      "metadata": {
        "colab": {
          "base_uri": "https://localhost:8080/"
        },
        "id": "qgQcANK5IbSW",
        "outputId": "feb79627-0b9a-43a7-98e3-9e739b3ec805"
      },
      "source": [
        "gnb_predict_proba = gnb_pipe.predict_proba(X_test)\n",
        "gnb_log_loss = log_loss(y_test, gnb_predict_proba)\n",
        "gnb_log_loss"
      ],
      "execution_count": 60,
      "outputs": [
        {
          "output_type": "execute_result",
          "data": {
            "text/plain": [
              "1.0774144146228588"
            ]
          },
          "metadata": {
            "tags": []
          },
          "execution_count": 60
        }
      ]
    },
    {
      "cell_type": "markdown",
      "metadata": {
        "id": "Ccb-rbENCjsP"
      },
      "source": [
        "##**KNeighborsClassifier:**\n",
        "\n",
        "Other approach, KNeighbors. The input consists of the k closest training examples in data set. The output is a class membership. A leaf is classified by a plurality vote of its neighbors, with the leaf being assigned to the class most common among its k nearest neighbors (k is a positive integer, typically small). If k = 1, then the leaf is simply assigned to the class of that single nearest neighbor."
      ]
    },
    {
      "cell_type": "code",
      "metadata": {
        "id": "qKvYZOH2IdhG"
      },
      "source": [
        "knc_pipe = Pipeline([\n",
        "    (\"deskew\", Deskew()),\n",
        "    ('scaler', StandardScaler()),\n",
        "    ('knc',KNeighborsClassifier())\n",
        "])"
      ],
      "execution_count": 61,
      "outputs": []
    },
    {
      "cell_type": "markdown",
      "metadata": {
        "id": "QvPCFhdZCr4s"
      },
      "source": [
        "Pipeline only"
      ]
    },
    {
      "cell_type": "code",
      "metadata": {
        "id": "daZoDIe7If7F"
      },
      "source": [
        "knc_pipe.fit(X_train,y_train)"
      ],
      "execution_count": null,
      "outputs": []
    },
    {
      "cell_type": "code",
      "metadata": {
        "colab": {
          "base_uri": "https://localhost:8080/"
        },
        "id": "7XwIpMghIiO2",
        "outputId": "4cf05824-ff1e-4009-d6c9-188311da4279"
      },
      "source": [
        "knc_pipe.score(X_train,y_train)"
      ],
      "execution_count": 63,
      "outputs": [
        {
          "output_type": "execute_result",
          "data": {
            "text/plain": [
              "0.8888210140500916"
            ]
          },
          "metadata": {
            "tags": []
          },
          "execution_count": 63
        }
      ]
    },
    {
      "cell_type": "code",
      "metadata": {
        "colab": {
          "base_uri": "https://localhost:8080/"
        },
        "id": "KNFzmczfIkLL",
        "outputId": "baad3479-25ec-4631-9144-e27feca193b7"
      },
      "source": [
        "knc_predictions= knc_pipe.predict(X_test)\n",
        "accuracy_knc = accuracy_score(y_test, knc_predictions)\n",
        "accuracy_knc"
      ],
      "execution_count": 64,
      "outputs": [
        {
          "output_type": "execute_result",
          "data": {
            "text/plain": [
              "0.8780487804878049"
            ]
          },
          "metadata": {
            "tags": []
          },
          "execution_count": 64
        }
      ]
    },
    {
      "cell_type": "code",
      "metadata": {
        "colab": {
          "base_uri": "https://localhost:8080/"
        },
        "id": "0FQrztFZImrk",
        "outputId": "40833a33-fadf-45fc-86c6-ca72cc40f491"
      },
      "source": [
        "knc_predict_proba = knc_pipe.predict_proba(X_test)\n",
        "knc_log_loss = log_loss(y_test,knc_predict_proba)\n",
        "knc_log_loss"
      ],
      "execution_count": 65,
      "outputs": [
        {
          "output_type": "execute_result",
          "data": {
            "text/plain": [
              "1.4527348135055551"
            ]
          },
          "metadata": {
            "tags": []
          },
          "execution_count": 65
        }
      ]
    },
    {
      "cell_type": "code",
      "metadata": {
        "id": "8Pk0DBL9Io95"
      },
      "source": [
        "#for GridSearch\n",
        "knparams = {\n",
        "    'knc__n_neighbors':range(1,15),\n",
        "    \"knc__weights\" : [\"distance\",\"uniform\"]\n",
        "}"
      ],
      "execution_count": 66,
      "outputs": []
    },
    {
      "cell_type": "markdown",
      "metadata": {
        "id": "40orcchOCz-2"
      },
      "source": [
        "### **KNeighbors after GridSearch**"
      ]
    },
    {
      "cell_type": "code",
      "metadata": {
        "id": "xkFm1l_lIrWj"
      },
      "source": [
        "kn_gs = GridSearchCV(knc_pipe, param_grid=knparams, cv=5,n_jobs=-1)\n",
        "kn_gs.fit(X_train,y_train)"
      ],
      "execution_count": null,
      "outputs": []
    },
    {
      "cell_type": "code",
      "metadata": {
        "colab": {
          "base_uri": "https://localhost:8080/"
        },
        "id": "e3bzrpEtIteE",
        "outputId": "fa7adbcc-6a85-4b7a-dd90-c12034d129d7"
      },
      "source": [
        "kn_gs.score(X_test, y_test)"
      ],
      "execution_count": 68,
      "outputs": [
        {
          "output_type": "execute_result",
          "data": {
            "text/plain": [
              "0.8780487804878049"
            ]
          },
          "metadata": {
            "tags": []
          },
          "execution_count": 68
        }
      ]
    },
    {
      "cell_type": "code",
      "metadata": {
        "colab": {
          "base_uri": "https://localhost:8080/"
        },
        "id": "GEMBAunRIwNL",
        "outputId": "5ebec364-eff7-421c-871f-a3d1797908fe"
      },
      "source": [
        "kn_gs_predictions= kn_gs.predict(X_test)\n",
        "accuracy_kn_gs = accuracy_score(y_test, kn_gs_predictions)\n",
        "accuracy_kn_gs"
      ],
      "execution_count": 69,
      "outputs": [
        {
          "output_type": "execute_result",
          "data": {
            "text/plain": [
              "0.8780487804878049"
            ]
          },
          "metadata": {
            "tags": []
          },
          "execution_count": 69
        }
      ]
    },
    {
      "cell_type": "code",
      "metadata": {
        "colab": {
          "base_uri": "https://localhost:8080/"
        },
        "id": "cHDcGq_gIyeK",
        "outputId": "22aa28cb-ada0-41d5-9afc-3827cae370aa"
      },
      "source": [
        "kngs_predict_proba = kn_gs.predict_proba(X_test)\n",
        "kngs_log_loss = log_loss(y_test,kngs_predict_proba)\n",
        "kngs_log_loss"
      ],
      "execution_count": 70,
      "outputs": [
        {
          "output_type": "execute_result",
          "data": {
            "text/plain": [
              "0.6625868086377703"
            ]
          },
          "metadata": {
            "tags": []
          },
          "execution_count": 70
        }
      ]
    },
    {
      "cell_type": "markdown",
      "metadata": {
        "id": "6szI25jXC71m"
      },
      "source": [
        "###**Comment on results**\n",
        "\n",
        "**Creating the Results DataFrame**\n",
        "\n",
        "Let us start by creating a Dataset with all the results we have found."
      ]
    },
    {
      "cell_type": "code",
      "metadata": {
        "id": "tXy0r_B8I0qv"
      },
      "source": [
        "pre_list =[\"raw data\",\"raw data\",\"raw data\",\"raw data\",\n",
        "           \"scaled\",\"scaled\",\"scaled\",\"scaled\",\n",
        "           \"deskewed_scaled\",\"deskewed_scaled\",\"deskewed_scaled\",\"deskewed_scaled\",\n",
        "           \"gridsearched\",\"gridsearched\",\"gridsearched\"]\n",
        "\n",
        "clf_list = [\"KNeighbors\",\"RandomForest\",\"GaussianNB\",\"LogisticReg\",\n",
        "           \"KNeighbors\",\"RandomForest\",\"GaussianNB\",\"LogisticReg\",\n",
        "           \"KNeighbors\",\"RandomForest\",\"GaussianNB\",\"LogisticReg\",\n",
        "           \"KNeighbors\",\"RandomForest\",\"LogisticReg\"]\n",
        "\n",
        "acc_list = [0.8439, 0.8756, 0.8146, 0.8268,\n",
        "           0.8888,0.8829,0.7745,0.7929,\n",
        "           0.8780,0.8829,0.8,0.8195,\n",
        "           0.8780,0.8707, 0.8170]\n",
        "\n",
        "loss_list = [2.1883, 0.3025,1.4177,0.3904,\n",
        "            1.4527,0.3822,1.07,0.4214,\n",
        "            1.4527,0.3822,1.07,0.4214,\n",
        "            0.6625,0.2940,0.4195]"
      ],
      "execution_count": 86,
      "outputs": []
    },
    {
      "cell_type": "code",
      "metadata": {
        "id": "FCPiWrATI5I4"
      },
      "source": [
        "log_df = pd.DataFrame(\n",
        "    {'Preprocessing': pre_list,\n",
        "     \"Classifier\": clf_list,\n",
        "     'Accuracy': acc_list,\n",
        "     \"Log Loss\" : loss_list\n",
        "    },columns=['Preprocessing','Classifier', 'Accuracy',\"Log Loss\"])"
      ],
      "execution_count": 87,
      "outputs": []
    },
    {
      "cell_type": "code",
      "metadata": {
        "colab": {
          "base_uri": "https://localhost:8080/",
          "height": 514
        },
        "id": "B0dq9pToI7W5",
        "outputId": "89e2ab7d-395a-494c-bc87-39a518804dab"
      },
      "source": [
        "log_df"
      ],
      "execution_count": 88,
      "outputs": [
        {
          "output_type": "execute_result",
          "data": {
            "text/html": [
              "<div>\n",
              "<style scoped>\n",
              "    .dataframe tbody tr th:only-of-type {\n",
              "        vertical-align: middle;\n",
              "    }\n",
              "\n",
              "    .dataframe tbody tr th {\n",
              "        vertical-align: top;\n",
              "    }\n",
              "\n",
              "    .dataframe thead th {\n",
              "        text-align: right;\n",
              "    }\n",
              "</style>\n",
              "<table border=\"1\" class=\"dataframe\">\n",
              "  <thead>\n",
              "    <tr style=\"text-align: right;\">\n",
              "      <th></th>\n",
              "      <th>Preprocessing</th>\n",
              "      <th>Classifier</th>\n",
              "      <th>Accuracy</th>\n",
              "      <th>Log Loss</th>\n",
              "    </tr>\n",
              "  </thead>\n",
              "  <tbody>\n",
              "    <tr>\n",
              "      <th>0</th>\n",
              "      <td>raw data</td>\n",
              "      <td>KNeighbors</td>\n",
              "      <td>0.8439</td>\n",
              "      <td>2.1883</td>\n",
              "    </tr>\n",
              "    <tr>\n",
              "      <th>1</th>\n",
              "      <td>raw data</td>\n",
              "      <td>RandomForest</td>\n",
              "      <td>0.8756</td>\n",
              "      <td>0.3025</td>\n",
              "    </tr>\n",
              "    <tr>\n",
              "      <th>2</th>\n",
              "      <td>raw data</td>\n",
              "      <td>GaussianNB</td>\n",
              "      <td>0.8146</td>\n",
              "      <td>1.4177</td>\n",
              "    </tr>\n",
              "    <tr>\n",
              "      <th>3</th>\n",
              "      <td>raw data</td>\n",
              "      <td>LogisticReg</td>\n",
              "      <td>0.8268</td>\n",
              "      <td>0.3904</td>\n",
              "    </tr>\n",
              "    <tr>\n",
              "      <th>4</th>\n",
              "      <td>scaled</td>\n",
              "      <td>KNeighbors</td>\n",
              "      <td>0.8888</td>\n",
              "      <td>1.4527</td>\n",
              "    </tr>\n",
              "    <tr>\n",
              "      <th>5</th>\n",
              "      <td>scaled</td>\n",
              "      <td>RandomForest</td>\n",
              "      <td>0.8829</td>\n",
              "      <td>0.3822</td>\n",
              "    </tr>\n",
              "    <tr>\n",
              "      <th>6</th>\n",
              "      <td>scaled</td>\n",
              "      <td>GaussianNB</td>\n",
              "      <td>0.7745</td>\n",
              "      <td>1.0700</td>\n",
              "    </tr>\n",
              "    <tr>\n",
              "      <th>7</th>\n",
              "      <td>scaled</td>\n",
              "      <td>LogisticReg</td>\n",
              "      <td>0.7929</td>\n",
              "      <td>0.4214</td>\n",
              "    </tr>\n",
              "    <tr>\n",
              "      <th>8</th>\n",
              "      <td>deskewed_scaled</td>\n",
              "      <td>KNeighbors</td>\n",
              "      <td>0.8780</td>\n",
              "      <td>1.4527</td>\n",
              "    </tr>\n",
              "    <tr>\n",
              "      <th>9</th>\n",
              "      <td>deskewed_scaled</td>\n",
              "      <td>RandomForest</td>\n",
              "      <td>0.8829</td>\n",
              "      <td>0.3822</td>\n",
              "    </tr>\n",
              "    <tr>\n",
              "      <th>10</th>\n",
              "      <td>deskewed_scaled</td>\n",
              "      <td>GaussianNB</td>\n",
              "      <td>0.8000</td>\n",
              "      <td>1.0700</td>\n",
              "    </tr>\n",
              "    <tr>\n",
              "      <th>11</th>\n",
              "      <td>deskewed_scaled</td>\n",
              "      <td>LogisticReg</td>\n",
              "      <td>0.8195</td>\n",
              "      <td>0.4214</td>\n",
              "    </tr>\n",
              "    <tr>\n",
              "      <th>12</th>\n",
              "      <td>gridsearched</td>\n",
              "      <td>KNeighbors</td>\n",
              "      <td>0.8780</td>\n",
              "      <td>0.6625</td>\n",
              "    </tr>\n",
              "    <tr>\n",
              "      <th>13</th>\n",
              "      <td>gridsearched</td>\n",
              "      <td>RandomForest</td>\n",
              "      <td>0.8707</td>\n",
              "      <td>0.2940</td>\n",
              "    </tr>\n",
              "    <tr>\n",
              "      <th>14</th>\n",
              "      <td>gridsearched</td>\n",
              "      <td>LogisticReg</td>\n",
              "      <td>0.8170</td>\n",
              "      <td>0.4195</td>\n",
              "    </tr>\n",
              "  </tbody>\n",
              "</table>\n",
              "</div>"
            ],
            "text/plain": [
              "      Preprocessing    Classifier  Accuracy  Log Loss\n",
              "0          raw data    KNeighbors    0.8439    2.1883\n",
              "1          raw data  RandomForest    0.8756    0.3025\n",
              "2          raw data    GaussianNB    0.8146    1.4177\n",
              "3          raw data   LogisticReg    0.8268    0.3904\n",
              "4            scaled    KNeighbors    0.8888    1.4527\n",
              "5            scaled  RandomForest    0.8829    0.3822\n",
              "6            scaled    GaussianNB    0.7745    1.0700\n",
              "7            scaled   LogisticReg    0.7929    0.4214\n",
              "8   deskewed_scaled    KNeighbors    0.8780    1.4527\n",
              "9   deskewed_scaled  RandomForest    0.8829    0.3822\n",
              "10  deskewed_scaled    GaussianNB    0.8000    1.0700\n",
              "11  deskewed_scaled   LogisticReg    0.8195    0.4214\n",
              "12     gridsearched    KNeighbors    0.8780    0.6625\n",
              "13     gridsearched  RandomForest    0.8707    0.2940\n",
              "14     gridsearched   LogisticReg    0.8170    0.4195"
            ]
          },
          "metadata": {
            "tags": []
          },
          "execution_count": 88
        }
      ]
    },
    {
      "cell_type": "code",
      "metadata": {
        "id": "DWEKZcQVI-nV"
      },
      "source": [
        "log_scaled = log_df[log_df[\"Preprocessing\"]== \"gridsearched\"]"
      ],
      "execution_count": 89,
      "outputs": []
    },
    {
      "cell_type": "code",
      "metadata": {
        "colab": {
          "base_uri": "https://localhost:8080/",
          "height": 142
        },
        "id": "Esk1G-W9JBEG",
        "outputId": "44bbabfa-b7b3-466c-e671-077379d5e433"
      },
      "source": [
        "log_scaled"
      ],
      "execution_count": 90,
      "outputs": [
        {
          "output_type": "execute_result",
          "data": {
            "text/html": [
              "<div>\n",
              "<style scoped>\n",
              "    .dataframe tbody tr th:only-of-type {\n",
              "        vertical-align: middle;\n",
              "    }\n",
              "\n",
              "    .dataframe tbody tr th {\n",
              "        vertical-align: top;\n",
              "    }\n",
              "\n",
              "    .dataframe thead th {\n",
              "        text-align: right;\n",
              "    }\n",
              "</style>\n",
              "<table border=\"1\" class=\"dataframe\">\n",
              "  <thead>\n",
              "    <tr style=\"text-align: right;\">\n",
              "      <th></th>\n",
              "      <th>Preprocessing</th>\n",
              "      <th>Classifier</th>\n",
              "      <th>Accuracy</th>\n",
              "      <th>Log Loss</th>\n",
              "    </tr>\n",
              "  </thead>\n",
              "  <tbody>\n",
              "    <tr>\n",
              "      <th>12</th>\n",
              "      <td>gridsearched</td>\n",
              "      <td>KNeighbors</td>\n",
              "      <td>0.8780</td>\n",
              "      <td>0.6625</td>\n",
              "    </tr>\n",
              "    <tr>\n",
              "      <th>13</th>\n",
              "      <td>gridsearched</td>\n",
              "      <td>RandomForest</td>\n",
              "      <td>0.8707</td>\n",
              "      <td>0.2940</td>\n",
              "    </tr>\n",
              "    <tr>\n",
              "      <th>14</th>\n",
              "      <td>gridsearched</td>\n",
              "      <td>LogisticReg</td>\n",
              "      <td>0.8170</td>\n",
              "      <td>0.4195</td>\n",
              "    </tr>\n",
              "  </tbody>\n",
              "</table>\n",
              "</div>"
            ],
            "text/plain": [
              "   Preprocessing    Classifier  Accuracy  Log Loss\n",
              "12  gridsearched    KNeighbors    0.8780    0.6625\n",
              "13  gridsearched  RandomForest    0.8707    0.2940\n",
              "14  gridsearched   LogisticReg    0.8170    0.4195"
            ]
          },
          "metadata": {
            "tags": []
          },
          "execution_count": 90
        }
      ]
    },
    {
      "cell_type": "markdown",
      "metadata": {
        "id": "fQ7EVJrwDIbN"
      },
      "source": [
        "In order to explain the results, lets plot a graph that allow us to compare all the models."
      ]
    },
    {
      "cell_type": "markdown",
      "metadata": {
        "id": "pcEmdFrBDLVL"
      },
      "source": [
        "### **Raw data**"
      ]
    },
    {
      "cell_type": "code",
      "metadata": {
        "colab": {
          "base_uri": "https://localhost:8080/",
          "height": 791
        },
        "id": "vGOg3yVUJExX",
        "outputId": "91f0f539-880d-442a-ad9a-6807428a1f34"
      },
      "source": [
        "data_raw = log_df[log_df[\"Preprocessing\"]== \"raw data\"]\n",
        "sns.set_color_codes(\"muted\")\n",
        "sns.barplot(x='Accuracy', y='Classifier', data=data_raw, color=\"b\")\n",
        "plt.xlabel('Accuracy ')\n",
        "plt.title('Classifier Accuracy-raw data')\n",
        "plt.xlim(0.6,1)\n",
        "plt.show()\n",
        "sns.set_color_codes(\"muted\")\n",
        "sns.barplot(x='Log Loss', y='Classifier', data=data_raw, color=\"g\")\n",
        "plt.xlabel('Log Loss')\n",
        "plt.title('Classifier Log Loss-raw data')\n",
        "plt.show()"
      ],
      "execution_count": 91,
      "outputs": [
        {
          "output_type": "display_data",
          "data": {
            "image/png": "[encoded data removed]",
            "text/plain": [
              "<Figure size 432x432 with 1 Axes>"
            ]
          },
          "metadata": {
            "tags": [],
            "needs_background": "light"
          }
        },
        {
          "output_type": "display_data",
          "data": {
            "image/png": "[encoded data removed]",
            "text/plain": [
              "<Figure size 432x432 with 1 Axes>"
            ]
          },
          "metadata": {
            "tags": [],
            "needs_background": "light"
          }
        }
      ]
    },
    {
      "cell_type": "markdown",
      "metadata": {
        "id": "kj3DtYcMDPdt"
      },
      "source": [
        "______\n",
        "Let us start with the raw data. In this case Random Forest showed the best accuracy and the lowest error. This is a good example of how the algorithm does not need pre-processing for making good predictions, is pretty accurate with raw data. It is flexible to both classification and regression problems. Also,  works well with both categorical and continuous values.\n",
        "\n",
        "The k-nearest neighbours algorithm is one of the most widely used data mining models because of its simplicity and accurate results. However, when it comes to deal with\n",
        "big datasets, with potentially noisy and missing information,\n",
        "this technique becomes ineffective and inefficient. In this case, we can see that the higuer loss is obtained by the k-nearest.\n",
        "______"
      ]
    },
    {
      "cell_type": "code",
      "metadata": {
        "colab": {
          "base_uri": "https://localhost:8080/",
          "height": 791
        },
        "id": "6PlrIsRCJGzM",
        "outputId": "53efc7c0-b21d-4262-e591-7c491ad3e26a"
      },
      "source": [
        "data_scaled = log_df[log_df[\"Preprocessing\"]== \"scaled\"]\n",
        "sns.set_color_codes(\"muted\")\n",
        "sns.barplot(x='Accuracy', y='Classifier', data=data_scaled, color=\"b\")\n",
        "plt.xlabel('Accuracy ')\n",
        "plt.title('Classifier Accuracy-scaled data')\n",
        "plt.xlim(0.6,1)\n",
        "plt.show()\n",
        "sns.set_color_codes(\"muted\")\n",
        "sns.barplot(x='Log Loss', y='Classifier', data=data_scaled, color=\"g\")\n",
        "plt.xlabel('Log Loss')\n",
        "plt.title('Classifier Log Loss-scaled data')\n",
        "plt.show()"
      ],
      "execution_count": 92,
      "outputs": [
        {
          "output_type": "display_data",
          "data": {
            "image/png": "[encoded data removed]",
            "text/plain": [
              "<Figure size 432x432 with 1 Axes>"
            ]
          },
          "metadata": {
            "tags": [],
            "needs_background": "light"
          }
        },
        {
          "output_type": "display_data",
          "data": {
            "image/png": "[encoded data removed]",
            "text/plain": [
              "<Figure size 432x432 with 1 Axes>"
            ]
          },
          "metadata": {
            "tags": [],
            "needs_background": "light"
          }
        }
      ]
    },
    {
      "cell_type": "markdown",
      "metadata": {
        "id": "ycs1Xr7SEoGA"
      },
      "source": [
        "_____\n",
        "Here the performance improved significantly for k-neighbors, however the lost did not improve. Logistic Regression does not improve with the scaled data. In logistic regression, we are only concerned about the probability of outcome dependent variable (success or failure). For the Gaussian NB the results does not improve after the optimization.\n",
        "\n",
        "In this case we could say that the better result is still random forest. However, even with the good results we could say that the model does not achive a desired performance. We think that one of the reasons is beacuse the test dataset is not really big. It means that any error will decrease considerably the accuracy and increase the loss of the results.\n",
        "____"
      ]
    },
    {
      "cell_type": "code",
      "metadata": {
        "colab": {
          "base_uri": "https://localhost:8080/",
          "height": 791
        },
        "id": "CIu4TKrNJLME",
        "outputId": "31c28415-c4b4-403e-f191-aeaebb139426"
      },
      "source": [
        "data_skewed_scaled = log_df[log_df[\"Preprocessing\"]== \"deskewed_scaled\"]\n",
        "sns.set_color_codes(\"muted\")\n",
        "sns.barplot(x='Accuracy', y='Classifier', data=data_skewed_scaled, color=\"b\")\n",
        "plt.xlabel('Accuracy ')\n",
        "plt.title('Classifier Accuracy-deskewed-scaled data')\n",
        "plt.xlim(0.6,1)\n",
        "plt.show()\n",
        "sns.set_color_codes(\"muted\")\n",
        "sns.barplot(x='Log Loss', y='Classifier', data=data_skewed_scaled, color=\"g\")\n",
        "plt.xlabel('Log Loss')\n",
        "plt.title('Classifier Log Loss-deskewed-scaled data')\n",
        "plt.show()"
      ],
      "execution_count": 93,
      "outputs": [
        {
          "output_type": "display_data",
          "data": {
            "image/png": "[encoded data removed]",
            "text/plain": [
              "<Figure size 432x432 with 1 Axes>"
            ]
          },
          "metadata": {
            "tags": [],
            "needs_background": "light"
          }
        },
        {
          "output_type": "display_data",
          "data": {
            "image/png": "[encoded data removed]",
            "text/plain": [
              "<Figure size 432x432 with 1 Axes>"
            ]
          },
          "metadata": {
            "tags": [],
            "needs_background": "light"
          }
        }
      ]
    },
    {
      "cell_type": "markdown",
      "metadata": {
        "id": "ye_ENIEfFiYB"
      },
      "source": [
        "The Deskewed Scaled process increase the accuracy as expected. This is because we are reducing the noisy parameters that does not allow the model to show the best performance and assign the wrong class to the input."
      ]
    },
    {
      "cell_type": "markdown",
      "metadata": {
        "id": "GY6X787IFmku"
      },
      "source": [
        "###**GridSearched**"
      ]
    },
    {
      "cell_type": "markdown",
      "metadata": {
        "id": "0FUea29MFpUR"
      },
      "source": [
        "____\n",
        "The best accuracy is obtained with the GridSearched, we can see that KNeighbors and Random Forest imporved the result upper 0.86%. This shows how tunning of the hyperparameters can select the best class in the classification task. This is one of the most important procedures in order to get good results in the ML classification problem.\n",
        "_____"
      ]
    },
    {
      "cell_type": "code",
      "metadata": {
        "colab": {
          "base_uri": "https://localhost:8080/",
          "height": 791
        },
        "id": "0wTKIkfDJOri",
        "outputId": "d8007cbe-b190-4770-de34-ad6b8703cc83"
      },
      "source": [
        "data_gridsearched = log_df[log_df[\"Preprocessing\"]== \"gridsearched\"]\n",
        "sns.set_color_codes(\"muted\")\n",
        "sns.barplot(x='Accuracy', y='Classifier', data=data_gridsearched, color=\"b\")\n",
        "plt.xlabel('Accuracy ')\n",
        "plt.title('Classifier Accuracy')\n",
        "plt.xlim(0.8,0.95)\n",
        "plt.show()\n",
        "sns.set_color_codes(\"muted\")\n",
        "sns.barplot(x='Log Loss', y='Classifier', data=data_gridsearched, color=\"g\")\n",
        "plt.xlabel('Log Loss')\n",
        "plt.title('Classifier Log Loss')\n",
        "plt.show()"
      ],
      "execution_count": 98,
      "outputs": [
        {
          "output_type": "display_data",
          "data": {
            "image/png": "[encoded data removed]",
            "text/plain": [
              "<Figure size 432x432 with 1 Axes>"
            ]
          },
          "metadata": {
            "tags": [],
            "needs_background": "light"
          }
        },
        {
          "output_type": "display_data",
          "data": {
            "image/png": "[encoded data removed]",
            "text/plain": [
              "<Figure size 432x432 with 1 Axes>"
            ]
          },
          "metadata": {
            "tags": [],
            "needs_background": "light"
          }
        }
      ]
    },
    {
      "cell_type": "markdown",
      "metadata": {
        "id": "pcbIVF-MP8zw"
      },
      "source": [
        "#**Conclusion Binary Classification**\n",
        "\n",
        "\n",
        "\n",
        "*   The best performance was showed by the Deep Learning Algorithms as expected. Deep learning algorithms try to learn high-level features from data. This is a very distinctive part of Deep Learning and a major step ahead of traditional Machine Learning. Therefore, deep learning reduces the task of developing new feature extractor for every problem. In this case, we could implement other solutions, like data augmentation, or other convolutional neural networks. However, the time was not enought to implement this methods.\n",
        "\n",
        "*   Feature extraction is a task that requires effort in order to have good results. The better the features are, the better results we can get. It defines the behavior of an image and show its place in terms of storage taken, efficiency in classification and time consumption.Feature extraction increases the accuracy of learned models by extracting features from the input data. This phase of the general framework reduces the dimensionality of data by removing the redundant data. \n",
        "\n",
        "*   The best classical method for this binary classification was Random Forest, this is already knowed as one of the best options for image classification because it reduces overfitting in decision trees and helps to improve the accuracy. It is flexible to both classification and regression problems and works well with both categorical and continuous values. RF automates missing values present in the data.\n",
        "\n",
        "\n",
        "\n"
      ]
    }
  ]
}